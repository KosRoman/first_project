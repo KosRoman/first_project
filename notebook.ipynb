{
 "cells": [
  {
   "cell_type": "markdown",
   "metadata": {},
   "source": [
    "<font color='blue' size=5><b>Комментарий ревьюера</b></font>\n",
    "\n",
    "<font color='blue'>Привет, Наталья! Меня зовут Павел Григорьев, и я буду проверять этот проект.<br>Моя основная цель - не указать на совершённые тобой ошибки, а поделиться своим опытом и помочь тебе совершенствоваться как профессионалу.<br>Спасибо за проделанную работу! Предлагаю общаться на «ты».</font>\n",
    "<details>\n",
    "\t<summary><u>Инструкция по организационным моментам (кликабельно)</u>⤵</summary>\n",
    "<font color='blue'>Я буду использовать различные цвета, чтобы было удобнее воспринимать мои комментарии:</font>\n",
    "\n",
    "\n",
    "---\n",
    "\n",
    "\n",
    "<font color='blue'>синий текст - просто текст комментария</font>\n",
    "\n",
    "<font color='green'>✔️ и зеленый текст - все отлично</font>\n",
    "\n",
    "<font color='orange'>⚠️ и оранжевый текст - сделано все правильно, однако есть рекомендации, на что стоит обратить внимание</font>\n",
    "\n",
    "<font color='red'>❌ и красный текст - есть недочеты</font>\n",
    "\n",
    "\n",
    "</details>    \n",
    "</br>\n",
    "<font color='blue'>Пожалуйста, не удаляй мои комментарии в случае возврата работы, так будет проще разобраться, какие были недочеты, а также сразу увидеть исправленное. </font>\n",
    "\n",
    "<font color='blue'>Ответы на мои комментарии лучше тоже помечать.\n",
    "\n",
    "Например:</font><font color='purple'><b>Комментарий студента</b></font>\n",
    "\n",
    "<font color='blue'><b>Давай смотреть, что получилось!</b></font>"
   ]
  },
  {
   "cell_type": "markdown",
   "metadata": {},
   "source": [
    "<span style=\"color: blue; font-size: 20px; font-weight: bold;\">Комментарий ревьюера 2</span>\n",
    "\n",
    "<span style=\"color: blue\">Привет еще раз. Спасибо, за исправления. Оформление комментариев по работе сохраняется. Только обозначим, что это вторая итерация.</span>"
   ]
  },
  {
   "cell_type": "markdown",
   "metadata": {},
   "source": [
    "## Введение"
   ]
  },
  {
   "cell_type": "markdown",
   "metadata": {},
   "source": [
    "Целью настоящего исследования является разработка алгоритма предсказания снижения покупательской активности клиентов магазина 'В Один Клик' и составление рекоммендаций по сохранению активности пользователей на его основе."
   ]
  },
  {
   "cell_type": "markdown",
   "metadata": {},
   "source": [
    "## Загрузка данных"
   ]
  },
  {
   "cell_type": "code",
   "execution_count": null,
   "metadata": {},
   "outputs": [],
   "source": [
    "!pip install shap "
   ]
  },
  {
   "cell_type": "code",
   "execution_count": null,
   "metadata": {
    "id": "H6cQIZr3ElW1"
   },
   "outputs": [],
   "source": [
    "import pandas as pd\n",
    "import numpy as np\n",
    "from matplotlib import pyplot as plt\n",
    "import seaborn as sns\n",
    "import math\n",
    "\n",
    "from statsmodels.stats.outliers_influence import variance_inflation_factor\n",
    "from statsmodels.tools.tools import add_constant\n",
    "from sklearn.model_selection import train_test_split\n",
    "\n",
    "from sklearn.pipeline import Pipeline\n",
    "\n",
    "from sklearn.preprocessing import OneHotEncoder, OrdinalEncoder, StandardScaler, MinMaxScaler, RobustScaler, LabelEncoder\n",
    "from sklearn.compose import ColumnTransformer\n",
    "\n",
    "\n",
    "from sklearn.metrics import roc_auc_score, f1_score\n",
    "\n",
    "from sklearn.model_selection import RandomizedSearchCV\n",
    "\n",
    "from sklearn.linear_model import LogisticRegression\n",
    "from sklearn.neighbors import KNeighborsClassifier\n",
    "from sklearn.tree import DecisionTreeClassifier\n",
    "from sklearn.svm import SVC\n",
    "from sklearn.impute import SimpleImputer\n",
    "\n",
    "import shap\n"
   ]
  },
  {
   "cell_type": "markdown",
   "metadata": {},
   "source": [
    "<font color='blue'><b>Комментарий ревьюера: </b></font> ✔️\\\n",
    "<font color='green'> Хорошее оформление импортов! \\\n",
    "Импорты собраны в одной ячейке, разделены на функциональные группы пустой строкой.</font>"
   ]
  },
  {
   "cell_type": "markdown",
   "metadata": {},
   "source": [
    "Прочитаем файлы с данными."
   ]
  },
  {
   "cell_type": "code",
   "execution_count": null,
   "metadata": {},
   "outputs": [],
   "source": [
    "df_market = pd.read_csv('/datasets/market_file.csv')\n",
    "df_time = pd.read_csv('/datasets/market_time.csv')\n",
    "df_money = pd.read_csv('/datasets/market_money.csv')\n",
    "df_profit = pd.read_csv('/datasets/money.csv', sep=';', decimal=',')"
   ]
  },
  {
   "cell_type": "markdown",
   "metadata": {},
   "source": [
    "<font color='blue'><b>Комментарий ревьюера: </b></font> ⚠️\\\n",
    "<font color='darkorange'>При загрузке в Пандас разделитель дроби можно указывать аргументом `decimal = ','`, тогда данные загружаются в корректном типе данных. (money)</font>\n",
    "```text\n",
    "Обратите внимание: в некоторых файлах разделитель значений — точка с запятой, а разделитель десятичных значений — запятая.  \n",
    "```"
   ]
  },
  {
   "cell_type": "markdown",
   "metadata": {},
   "source": [
    "<div class=\"alert-info\">\n",
    "Исправлено\n",
    "</div>"
   ]
  },
  {
   "cell_type": "markdown",
   "metadata": {},
   "source": [
    "<span style=\"color: blue; font-weight: bold\">Комментарий ревьюера 2: </span> ✔️\\\n",
    "<span style=\"color: green\"> 👍</span>"
   ]
  },
  {
   "cell_type": "markdown",
   "metadata": {},
   "source": [
    "## Предобработка"
   ]
  },
  {
   "cell_type": "code",
   "execution_count": null,
   "metadata": {},
   "outputs": [],
   "source": [
    "df_market.head()"
   ]
  },
  {
   "cell_type": "code",
   "execution_count": null,
   "metadata": {},
   "outputs": [],
   "source": [
    "df_money.head()"
   ]
  },
  {
   "cell_type": "code",
   "execution_count": null,
   "metadata": {},
   "outputs": [],
   "source": [
    "df_profit.head()"
   ]
  },
  {
   "cell_type": "code",
   "execution_count": null,
   "metadata": {},
   "outputs": [],
   "source": [
    "df_time.head()"
   ]
  },
  {
   "cell_type": "markdown",
   "metadata": {},
   "source": [
    "ВИдно что все импортировалось корректно, проанализируем базовую информацию о таблицах."
   ]
  },
  {
   "cell_type": "code",
   "execution_count": null,
   "metadata": {},
   "outputs": [],
   "source": [
    "print(df_market.info(),df_time.info(),df_money.info(),df_profit.info())"
   ]
  },
  {
   "cell_type": "markdown",
   "metadata": {},
   "source": [
    "Даные имеют правильный тип"
   ]
  },
  {
   "cell_type": "markdown",
   "metadata": {},
   "source": [
    "Посчитаем пропуски"
   ]
  },
  {
   "cell_type": "code",
   "execution_count": null,
   "metadata": {},
   "outputs": [],
   "source": [
    "print(df_market.isna().sum(), df_time.isna().sum(), df_money.isna().sum(), df_profit.isna().sum())"
   ]
  },
  {
   "cell_type": "markdown",
   "metadata": {},
   "source": [
    "В таблицах отсутствуют пропуски."
   ]
  },
  {
   "cell_type": "markdown",
   "metadata": {},
   "source": [
    "Проанализируем уникальные значения строковых переменных"
   ]
  },
  {
   "cell_type": "code",
   "execution_count": null,
   "metadata": {},
   "outputs": [],
   "source": [
    "df_money['Период'].unique()"
   ]
  },
  {
   "cell_type": "code",
   "execution_count": null,
   "metadata": {},
   "outputs": [],
   "source": [
    "df_time['Период'].unique()"
   ]
  },
  {
   "cell_type": "code",
   "execution_count": null,
   "metadata": {},
   "outputs": [],
   "source": [
    "for k in df_market.select_dtypes(include='O').columns:\n",
    "    print(df_market[k].value_counts())"
   ]
  },
  {
   "cell_type": "markdown",
   "metadata": {},
   "source": [
    "Исправим ошибку в графах 'период' и 'тип сервиса', а также посмотрим на распределение по значениям категориальных переменных."
   ]
  },
  {
   "cell_type": "code",
   "execution_count": null,
   "metadata": {},
   "outputs": [],
   "source": [
    "df_time['Период'] = df_time['Период'].apply(lambda x:x.replace('предыдцщий_месяц','предыдущий_месяц' ))"
   ]
  },
  {
   "cell_type": "markdown",
   "metadata": {},
   "source": [
    "<font color='blue'><b>Комментарий ревьюера : </b></font> ✔️\\\n",
    "<font color='green'> 👍</font>"
   ]
  },
  {
   "cell_type": "code",
   "execution_count": null,
   "metadata": {},
   "outputs": [],
   "source": [
    "df_market['Тип сервиса'] = df_market['Тип сервиса'].apply(lambda x:x.replace('стандартт','стандарт' ))"
   ]
  },
  {
   "cell_type": "markdown",
   "metadata": {},
   "source": [
    "<font color='blue'><b>Комментарий ревьюера : </b></font> ✔️\\\n",
    "<font color='green'> 👍</font>"
   ]
  },
  {
   "cell_type": "code",
   "execution_count": null,
   "metadata": {},
   "outputs": [],
   "source": [
    "for k in df_market.select_dtypes(include='O').columns:\n",
    "    sns.barplot(x = df_market[k].value_counts().index, y = df_market[k].value_counts().values).set(title=k)\n",
    "    plt.xticks(rotation=90)\n",
    "    plt.show()"
   ]
  },
  {
   "cell_type": "markdown",
   "metadata": {},
   "source": [
    "Целевой признак распределен слегка неравномерно, так что будем использовать стратификацию при разбиении на выборки."
   ]
  },
  {
   "cell_type": "markdown",
   "metadata": {},
   "source": [
    "<font color='blue'><b>Комментарий ревьюера: </b></font> ✔️ <br>\n",
    "<font color='green'>Здорово, что не забываешь про промежуточные выводы.</font>"
   ]
  },
  {
   "cell_type": "markdown",
   "metadata": {},
   "source": [
    "## Исследовательский анализ данных"
   ]
  },
  {
   "cell_type": "markdown",
   "metadata": {},
   "source": [
    "Данные в df_money содержат выруку за 3 последних месяца, а в df_time - общее время использования за 2 месяца. Объединим их с датафреймом df_market, также поставим id в качестве индекса."
   ]
  },
  {
   "cell_type": "code",
   "execution_count": null,
   "metadata": {},
   "outputs": [],
   "source": [
    "df_profit.set_index('id', drop=True, inplace=True)"
   ]
  },
  {
   "cell_type": "code",
   "execution_count": null,
   "metadata": {},
   "outputs": [],
   "source": [
    "df_market.set_index('id', drop=True, inplace=True)"
   ]
  },
  {
   "cell_type": "code",
   "execution_count": null,
   "metadata": {},
   "outputs": [],
   "source": [
    "df_time.pivot_table(values='минут', index='id', columns='Период')"
   ]
  },
  {
   "cell_type": "code",
   "execution_count": null,
   "metadata": {},
   "outputs": [],
   "source": [
    "for x in ['препредыдущий_месяц', 'текущий_месяц', 'предыдущий_месяц']:\n",
    "    name = 'Выручка_' + x\n",
    "    df_market[name] = df_money.pivot_table(values='Выручка', index='id', columns='Период')[x]"
   ]
  },
  {
   "cell_type": "code",
   "execution_count": null,
   "metadata": {},
   "outputs": [],
   "source": [
    "for x in ['текущий_месяц', 'предыдущий_месяц']:\n",
    "    name = 'минуты_' + x\n",
    "    df_market[name] = df_time.pivot_table(values='минут', index='id', columns='Период')[x]"
   ]
  },
  {
   "cell_type": "markdown",
   "metadata": {},
   "source": [
    "<font color='blue'><b>Комментарий ревьюера: </b></font> ⚠️\\\n",
    "<font color='darkorange'> Таблицы можно \"развернуть вширь\" по id  методом pivot_table. Необязательно прописывать каждую колонку.</font>"
   ]
  },
  {
   "cell_type": "markdown",
   "metadata": {},
   "source": [
    "<div class=\"alert-info\">\n",
    "Исправлено\n",
    "</div>"
   ]
  },
  {
   "cell_type": "markdown",
   "metadata": {},
   "source": [
    "<font color='blue'><b>Комментарий ревьюера 2: </b></font> ✔️\\\n",
    "<font color='green'> Отлично!  Развернули таблицы.</font>"
   ]
  },
  {
   "cell_type": "code",
   "execution_count": null,
   "metadata": {},
   "outputs": [],
   "source": [
    "df_market.head()"
   ]
  },
  {
   "cell_type": "markdown",
   "metadata": {},
   "source": [
    "Рассмотрим распределение количественных переменных."
   ]
  },
  {
   "cell_type": "code",
   "execution_count": null,
   "metadata": {},
   "outputs": [],
   "source": [
    "df_market.hist(figsize=(10,10), bins=50);"
   ]
  },
  {
   "cell_type": "markdown",
   "metadata": {},
   "source": [
    "Распределения выглядя правдоподобно, однако есть выброс в графе выручка_текущий_месяц"
   ]
  },
  {
   "cell_type": "code",
   "execution_count": null,
   "metadata": {
    "scrolled": true
   },
   "outputs": [],
   "source": [
    "df_market['Выручка_текущий_месяц'].sort_values(ascending=False)"
   ]
  },
  {
   "cell_type": "markdown",
   "metadata": {},
   "source": [
    "Одно значение на порядок больше всех остальных, заменим его на среднее"
   ]
  },
  {
   "cell_type": "markdown",
   "metadata": {},
   "source": [
    "<font color='blue'><b>Комментарий ревьюера : </b></font> ✔️\\\n",
    "<font color='green'>Действительно явный выброс.\n",
    "Можно удалить, а можно и заполнить, например значением предыдущего месяца.</font>"
   ]
  },
  {
   "cell_type": "code",
   "execution_count": null,
   "metadata": {},
   "outputs": [],
   "source": [
    "df_market.loc[215380,'Выручка_текущий_месяц'] = df_market['Выручка_текущий_месяц'].mean()"
   ]
  },
  {
   "cell_type": "code",
   "execution_count": null,
   "metadata": {},
   "outputs": [],
   "source": [
    "df_profit['Прибыль'].hist(bins = 50);"
   ]
  },
  {
   "cell_type": "markdown",
   "metadata": {},
   "source": [
    "Распределение прибыли близко к нормальному. "
   ]
  },
  {
   "cell_type": "code",
   "execution_count": null,
   "metadata": {},
   "outputs": [],
   "source": [
    "df_market.describe()"
   ]
  },
  {
   "cell_type": "code",
   "execution_count": null,
   "metadata": {},
   "outputs": [],
   "source": [
    "df_market[(df_market['Выручка_предыдущий_месяц']==0) & (df_market['Выручка_препредыдущий_месяц']==0)]"
   ]
  },
  {
   "cell_type": "markdown",
   "metadata": {},
   "source": [
    "Видно что некоторые клиенты были неактивны в прошлые месяцы, избавимся от них"
   ]
  },
  {
   "cell_type": "code",
   "execution_count": null,
   "metadata": {},
   "outputs": [],
   "source": [
    "df_market.drop(df_market[(df_market['Выручка_предыдущий_месяц']==0) & (df_market['Выручка_препредыдущий_месяц']==0)].index);"
   ]
  },
  {
   "cell_type": "markdown",
   "metadata": {},
   "source": [
    "<font color='blue'><b>Комментарий ревьюера: </b></font> ❌\\\n",
    "<font color='red'> ~~Нужно удалить пользователей без покупок хотя бы в одном из трёх месяцев, у них активность менее трёх месяцев. ~~</font>"
   ]
  },
  {
   "cell_type": "markdown",
   "metadata": {},
   "source": [
    "<div class=\"alert-info\">\n",
    "Исправлено\n",
    "</div>"
   ]
  },
  {
   "cell_type": "markdown",
   "metadata": {},
   "source": [
    "<font color='blue'><b>Комментарий ревьюера 2: </b></font> ✔️\\\n",
    "<font color='green'>Неактивные удалены 👌</font>"
   ]
  },
  {
   "cell_type": "markdown",
   "metadata": {},
   "source": [
    "## Корреляционный анализ"
   ]
  },
  {
   "cell_type": "markdown",
   "metadata": {},
   "source": [
    "Проверим входные признаки на мультиколлинеарность, для этого построим матрицу корреляции."
   ]
  },
  {
   "cell_type": "code",
   "execution_count": null,
   "metadata": {},
   "outputs": [],
   "source": [
    "fig, ax = plt.subplots(figsize=(10,10))         \n",
    "dataplot = sns.heatmap(df_market.corr(method='spearman'), cmap=\"YlGnBu\", annot=True, ax=ax) "
   ]
  },
  {
   "cell_type": "markdown",
   "metadata": {},
   "source": [
    "<font color='blue'><b>Комментарий ревьюера: </b></font> ❌\\\n",
    "<font color='red'>~~Все признаки распределены не нормально, поэтому здесь нужно использовать корреляцию Спирмана или Phik или иные подходы, которые устойчивы к выбросам и ненормальному распределению. Корреляция Пирсона, которая здесь используется по умолчанию, нам не подходит.~~</font>"
   ]
  },
  {
   "cell_type": "markdown",
   "metadata": {},
   "source": [
    "<div class=\"alert-info\">\n",
    "Исправлено\n",
    "</div>"
   ]
  },
  {
   "cell_type": "markdown",
   "metadata": {},
   "source": [
    "<font color='blue'><b>Комментарий ревьюера 2: </b></font> ✔️\\\n",
    "<font color='green'>Здорово,что применена `phik` для анализа и нелинейных зависимостей</font>"
   ]
  },
  {
   "cell_type": "markdown",
   "metadata": {},
   "source": [
    "<font color='blue'><b>Комментарий ревьюера: </b></font> ⚠️\\\n",
    "<font color='darkorange'>Можно использовать коэффициент корреляции $\\phi_K$ , это передовой способ вычисления коэффициентов корреляции для любых типов признаков. Заодно можно посмотреть корреляции с таргетом. Кроме того, в библиотеке есть визуализация. Стоит учитывать, что этот коэффициент показывает не только линейные связи, но и нелинейные. Более подробно понять вид связи поможет визуализация с помощью диаграмм рассеяния. Ссылка на документацию: https://phik.readthedocs.io/en/latest/\n",
    "Пример кода:</font>\n",
    "```python\n",
    "from phik.report import plot_correlation_matrix\n",
    "from phik import report\n",
    "\n",
    "# список интервальных признаков\n",
    "interval_cols = [...]\n",
    "\n",
    "# вычисление коэффициентов корреляции phi для датафрейма df\n",
    "phik_overview = df.phik_matrix(interval_cols=interval_cols)\n",
    "\n",
    "# визуализация тепловой карты коэффициентов корреляции\n",
    "plot_correlation_matrix(\n",
    "    phik_overview.values,\n",
    "    x_labels=phik_overview.columns,\n",
    "    y_labels=phik_overview.index,\n",
    "    title=r\"correlation $\\phi_K$\",\n",
    "    fontsize_factor=1.5,\n",
    "    figsize=(15, 12)\n",
    ")\n",
    "```"
   ]
  },
  {
   "cell_type": "markdown",
   "metadata": {},
   "source": [
    "Самая большая корреляция - 0.88 между выручкой за текущий и прошлый месяц, это много, но недостаточно чтобы исключить один из признаков. На всякий случай также проведем VIF анализ."
   ]
  },
  {
   "cell_type": "code",
   "execution_count": null,
   "metadata": {},
   "outputs": [],
   "source": [
    "X = add_constant(df_market).select_dtypes(exclude=['O'])\n",
    "\n",
    "VIFs = pd.DataFrame()\n",
    "VIFs['Variable'] = X.columns\n",
    "VIFs['VIF'] = [variance_inflation_factor(X.values, i) for i in range(X.shape[1])]\n",
    "print(VIFs)"
   ]
  },
  {
   "cell_type": "markdown",
   "metadata": {},
   "source": [
    "Все значения достаточно небольшие"
   ]
  },
  {
   "cell_type": "markdown",
   "metadata": {},
   "source": [
    "<font color='blue'><b>Комментарий ревьюера : </b></font> ✔️\\\n",
    "<font color='green'> 👍</font>"
   ]
  },
  {
   "cell_type": "markdown",
   "metadata": {},
   "source": [
    "## Тренировка модели"
   ]
  },
  {
   "cell_type": "markdown",
   "metadata": {},
   "source": [
    "Проведем автоматизированный выбор модели с подбором гиперпараметров, для оценки мы будем использовать метрику f1: в нашей задаче снижение покупательской активности кодируется как TP, цена FP (маркировка стабильного клиента как снижающего активность) для компании ниже чем FN (игнорирование клиента, который вероятно снизит покупательскую активность), к тому же у нас имеется дисбаланс классов - TP меньше чем TN, все это диктует выбор f1."
   ]
  },
  {
   "cell_type": "markdown",
   "metadata": {},
   "source": [
    "<span style=\"color: blue; font-weight: bold\">Комментарий ревьюера 2: </span> ✔️\\\n",
    "<span style=\"color: green\"> 👍</span>"
   ]
  },
  {
   "cell_type": "code",
   "execution_count": null,
   "metadata": {},
   "outputs": [],
   "source": [
    "RANDOM_STATE = 42\n",
    "TEST_SIZE = 0.25\n",
    "\n",
    "X = df_market.drop(['Покупательская активность'], axis=1)\n",
    "y = df_market['Покупательская активность']\n",
    "\n",
    "le = LabelEncoder()\n",
    "#y = le.fit_transform(y)\n",
    "\n",
    "X_train, X_test, y_train, y_test = train_test_split(\n",
    "    X,\n",
    "    y,\n",
    "    test_size = TEST_SIZE, \n",
    "    random_state = RANDOM_STATE,\n",
    "    stratify = y)\n",
    "\n",
    "y_train = le.fit_transform(y_train)\n",
    "y_test = le.transform(y_test)\n",
    "# Прежний уровень кодируется как 0, Снизилась как 1\n",
    "\n",
    "\n",
    "ohe_columns = ['Разрешить сообщать','Популярная_категория']\n",
    "ord_columns = ['Тип сервиса']\n",
    "num_columns = X_train.select_dtypes(exclude='O').columns\n",
    "\n",
    "\n",
    "\n",
    "data_preprocessor = ColumnTransformer(\n",
    "    [('ohe', OneHotEncoder(drop='first', sparse=False), ohe_columns),\n",
    "     ('ord', OrdinalEncoder(), ord_columns),\n",
    "     ('num', MinMaxScaler(), num_columns)])\n",
    "\n",
    "pipe_final = Pipeline([\n",
    "    ('preprocessor', data_preprocessor),\n",
    "    ('models', DecisionTreeClassifier(random_state=RANDOM_STATE))])\n",
    "\n",
    "param_grid = [\n",
    "    {\n",
    "        'models': [DecisionTreeClassifier(random_state=RANDOM_STATE)],\n",
    "        'models__max_depth': range(2,5),\n",
    "        'models__max_features': range(2,5),\n",
    "        'preprocessor__num': [StandardScaler(), MinMaxScaler()],\n",
    "        'preprocessor__ord':[OneHotEncoder(drop='first', sparse=False), OrdinalEncoder()]\n",
    "    },\n",
    "    \n",
    "    {\n",
    "        'models': [KNeighborsClassifier()],\n",
    "        'models__n_neighbors': range(2,5),\n",
    "        'preprocessor__num': [StandardScaler(), MinMaxScaler()],\n",
    "        'preprocessor__ord':[OneHotEncoder(drop='first', sparse=False), OrdinalEncoder()]\n",
    "    },\n",
    "\n",
    "    {\n",
    "        'models': [LogisticRegression(\n",
    "            random_state=RANDOM_STATE, \n",
    "            solver='liblinear', \n",
    "            penalty='l1'\n",
    "        )],\n",
    "        'models__C': range(1,5),\n",
    "        'preprocessor__num': [StandardScaler(), MinMaxScaler()],\n",
    "        'preprocessor__ord':[OneHotEncoder(drop='first', sparse=False), OrdinalEncoder()]\n",
    "    }\n",
    "    \n",
    "    ,{\n",
    "        'models': [SVC(random_state=RANDOM_STATE, kernel='linear', probability=True)],\n",
    "        'models__C': range(1,5),\n",
    "        'preprocessor__num': [StandardScaler(), MinMaxScaler()],\n",
    "        'preprocessor__ord':[OneHotEncoder(drop='first', sparse=False), OrdinalEncoder()]\n",
    "    }\n",
    "]\n",
    "\n",
    "randomized_search = RandomizedSearchCV(\n",
    "    pipe_final, \n",
    "    param_grid, \n",
    "    cv=5,\n",
    "    scoring='f1',\n",
    "    random_state=RANDOM_STATE,\n",
    "    n_jobs=-1\n",
    ")\n",
    "randomized_search.fit(X_train, y_train)\n",
    "\n",
    "print('Лучшая модель и её параметры:\\n\\n', randomized_search.best_estimator_)\n",
    "print ('Метрика лучшей модели на тренировочной выборке:', randomized_search.best_score_)\n",
    "\n",
    "# проверьте работу модели на тестовой выборке\n",
    "# рассчитайте прогноз на тестовых данных\n",
    "y_test_pred = randomized_search.predict(X_test)\n",
    "print(f'Метрика f1 на тестовой выборке: {f1_score(y_test, y_test_pred)}')\n",
    "model = randomized_search.best_estimator_"
   ]
  },
  {
   "cell_type": "markdown",
   "metadata": {},
   "source": [
    "<font color='blue'><b>Комментарий ревьюера : </b></font> ❌\\\n",
    "<font color='red'> ~~Энкодер можно обучать только на обучающих данных.\\\n",
    "Тестовую выборки только трансформируем.(LabelEncoder())~~ </font>"
   ]
  },
  {
   "cell_type": "markdown",
   "metadata": {},
   "source": [
    "<div class=\"alert-info\">\n",
    "Исправлено\n",
    "</div>"
   ]
  },
  {
   "cell_type": "markdown",
   "metadata": {},
   "source": [
    "<span style=\"color: blue; font-weight: bold\">Комментарий ревьюера 2: </span> ✔️\\\n",
    "<span style=\"color: green\"> 👍</span>"
   ]
  },
  {
   "cell_type": "markdown",
   "metadata": {},
   "source": [
    "<font color='blue'><b>Комментарий ревьюера : </b></font> ❌\\\n",
    "<font color='red'> ~~По заданию нужно два Энкодера.\\\n",
    "Можно передавать в параметрах для LR, KNN и SVC - OHE, а для Дерева перебрать OHE и OE,\\\n",
    "a можно засунуть в ord_columns какой-нибудь бинарный признак, например 'тип_сервиса'.~~ </font>\n",
    "```text\n",
    "Для кодирования категориальных признаков используйте как минимум два кодировщика.\n",
    "Напоминаем, что для каждой модели можно подготовить данные с разным кодированием и масштабированием.\n",
    "```"
   ]
  },
  {
   "cell_type": "markdown",
   "metadata": {},
   "source": [
    "<div class=\"alert-info\">\n",
    "Исправлено\n",
    "</div>"
   ]
  },
  {
   "cell_type": "markdown",
   "metadata": {},
   "source": [
    "<span style=\"color: blue; font-weight: bold\">Комментарий ревьюера 2: </span> ✔️\\\n",
    "<span style=\"color: green\"> 👍</span>"
   ]
  },
  {
   "cell_type": "markdown",
   "metadata": {},
   "source": [
    "<font color='blue'><b>Комментарий ревьюера : </b></font> ❌\\\n",
    "<font color='red'> ~~По заданию нужно обучить четыре модели~~\n",
    "```markdown\n",
    "Обучите четыре модели: KNeighborsClassifier(), DecisionTreeClassifier(), LogisticRegression() и  SVC()\n",
    "```\n",
    "~~Есть специальные методы для уменьшения размерности данных в shap.~~</font>"
   ]
  },
  {
   "cell_type": "markdown",
   "metadata": {},
   "source": [
    "<div class=\"alert-info\">\n",
    "Исправлено, SVC с линейным ядром работает\n",
    "</div>"
   ]
  },
  {
   "cell_type": "markdown",
   "metadata": {},
   "source": [
    "<span style=\"color: blue; font-weight: bold\">Комментарий ревьюера 2: </span> ✔️\\\n",
    "<span style=\"color: green\"> 👍</span>"
   ]
  },
  {
   "cell_type": "markdown",
   "metadata": {},
   "source": [
    "<font color='blue'><b>Комментарий ревьюера: </b></font> ❌\\\n",
    "<font color='red'> ~~В SVC нужно передать аргумент probability= True. Что бы можно было работать с вероятностями, если модель выиграет.~~</font>"
   ]
  },
  {
   "cell_type": "markdown",
   "metadata": {},
   "source": [
    "<div class=\"alert-info\">\n",
    "Исправлено\n",
    "</div>"
   ]
  },
  {
   "cell_type": "markdown",
   "metadata": {},
   "source": [
    "<span style=\"color: blue; font-weight: bold\">Комментарий ревьюера 2: </span> ✔️\\\n",
    "<span style=\"color: green\"> 👍</span>"
   ]
  },
  {
   "cell_type": "markdown",
   "metadata": {},
   "source": [
    "<font color='blue'><b>Комментарий ревьюера: </b></font> ❌\\\n",
    "<font color='red'> ~~Нужно аргументировать выбор метрики.~~</font>"
   ]
  },
  {
   "cell_type": "markdown",
   "metadata": {},
   "source": [
    "<div class=\"alert-info\">\n",
    "Исправлено, аргументация в начале секции\n",
    "</div>"
   ]
  },
  {
   "cell_type": "markdown",
   "metadata": {},
   "source": [
    "<font color='blue'><b>Комментарий ревьюера: </b></font> ❌\\\n",
    "<font color='red'>~~roc_auc нужно считать по вероятностям классов~~</font>\n",
    "```python\n",
    "probabilities = model.predict_proba(features)\n",
    "probabilities_one = probabilities[:, 1]\n",
    "print('Площадь ROC-кривой:', roc_auc_score(target, probabilities_one))\n",
    "```\n",
    "<font color='blue'>Самое подробное объяснение метрики, что я видел на русском языке, можно посмотреть здесь: https://alexanderdyakonov.wordpress.com/2017/07/28/auc-roc-площадь-под-кривой-ошибок \\\n",
    "А внутри кросс-валидации мы просто указываем метрику ROC_AUC и там никаких вероятностей нам не нужно. Так как эта метрика не дифференцируема на всем промежутке (кажется, разрыв в нуле), то там разработчики кросс-валидации хитро меняют ее на эквивалент Gini, так как Gini = 2 ×AUC_ROC – 1 (можно почитать по ссылке выше)\n",
    "</font>"
   ]
  },
  {
   "cell_type": "markdown",
   "metadata": {},
   "source": [
    "<div class=\"alert-info\">\n",
    "Метрика заменена на f1\n",
    "</div>"
   ]
  },
  {
   "cell_type": "markdown",
   "metadata": {},
   "source": [
    "<span style=\"color: blue; font-weight: bold\">Комментарий ревьюера 2: </span> ✔️\\\n",
    "<span style=\"color: green\"> 👍</span>"
   ]
  },
  {
   "cell_type": "markdown",
   "metadata": {},
   "source": [
    "## Интерпретация модели"
   ]
  },
  {
   "cell_type": "markdown",
   "metadata": {},
   "source": [
    "Используем SHAP для анализа признаков."
   ]
  },
  {
   "cell_type": "code",
   "execution_count": null,
   "metadata": {},
   "outputs": [],
   "source": [
    "model.named_steps['preprocessor'].transformers_[0][1].get_feature_names()"
   ]
  },
  {
   "cell_type": "code",
   "execution_count": null,
   "metadata": {},
   "outputs": [],
   "source": [
    "model.named_steps['preprocessor'].transformers_[1][1].get_feature_names()"
   ]
  },
  {
   "cell_type": "code",
   "execution_count": null,
   "metadata": {},
   "outputs": [],
   "source": [
    "model.fit(X_train, y_train)\n",
    "feature_names = list(model.named_steps['preprocessor'].transformers_[0][1].get_feature_names()) + list(model.named_steps['preprocessor'].transformers_[1][1].get_feature_names()) +list(num_columns)\n",
    "X_train_data = model.named_steps['preprocessor'].transform(X_train)\n",
    "X_test_data = model.named_steps['preprocessor'].transform(X_test)\n",
    "X_train_transformed = pd.DataFrame(data = X_train_data, columns = feature_names)\n",
    "X_test_transformed = pd.DataFrame(data = X_test_data, columns = feature_names)"
   ]
  },
  {
   "cell_type": "markdown",
   "metadata": {},
   "source": [
    "<font color='blue'><b>Комментарий ревьюера: </b></font> ⚠️\\\n",
    "<font color='darkorange'> У нас уже есть обученные препроцессор и классификатор в `randomized_search.best_estimator_`</font>"
   ]
  },
  {
   "cell_type": "markdown",
   "metadata": {},
   "source": [
    "<div class=\"alert-info\">\n",
    "Если написать что-то вроде \n",
    "explainer = shap.LinearExplainer(model, X_train)\n",
    "shap_values = explainer(X_test)\n",
    "shap.plots.beeswarm(shap_values, max_display=20) \n",
    "то получается ошибка, вроде как на вход explainer'а нужно подавать только estimator, а не весь pipeline, поэтому я отдельно трансформирую данные в начале.\n",
    "</div>"
   ]
  },
  {
   "cell_type": "markdown",
   "metadata": {},
   "source": [
    "<span style=\"color: blue; font-weight: bold\">Комментарий ревьюера 2: </span> ⚠️\\\n",
    "<span style=\"color: blue\"> Всё верно, Нужно подавать предобработанные данные, комментарий к тому что эти модели заново обучались.\\\n",
    "Mожно подавать Пайплайн в shap https://github.com/shap/shap/issues/1362</span>"
   ]
  },
  {
   "cell_type": "code",
   "execution_count": null,
   "metadata": {},
   "outputs": [],
   "source": [
    "shap.initjs()\n",
    "\n",
    "explainer = shap.LinearExplainer(model[1], X_train_transformed)\n",
    "shap_values = explainer(X_test_transformed)\n",
    "shap.plots.beeswarm(shap_values, max_display=20) "
   ]
  },
  {
   "cell_type": "code",
   "execution_count": null,
   "metadata": {},
   "outputs": [],
   "source": [
    "X_test.columns"
   ]
  },
  {
   "cell_type": "code",
   "execution_count": null,
   "metadata": {},
   "outputs": [],
   "source": [
    "X_test['Выручка_препредыдущий_месяц'].hist(bins=50)"
   ]
  },
  {
   "cell_type": "markdown",
   "metadata": {},
   "source": [
    "Напомним что целевой признак это вероятность снижения покупательской активности, т.е. нам нужно искать признаки, которые понижают целевой признак. Многие из признаков, сильно влияющих на целевой, весьма предсказуемы:\n",
    "* видно что снижение времени просмотра, числа просмотренных страниц и категорий положительно коррелируеи с вероятностью снижения покупательской активности. Также, ожидаемо, рост числа неоплаченных товаров приводит к снижению покупательской активности. \n",
    "* Несколько более интересна зависимость от числа акционных покупок - рост доли акционных покупок приводит к росту вероятности снижения покупательской активности, однако есть обособленная группа клиентов с очень выскокой долей акционных покупок и соответственно очень высокой вероятностью снижения активности, можно предположить что эти люди не являются постоянными пользователями сервиса и приобретают товары исключительно по акциям, что объясняет их нерегулярную активность. \n",
    "* Рост числа маркетинговых коммуникаций приводит к снижению целевого признака, однако только на промежутке 6 месяцев, рост числа маркетинговых коммуникаций за последний месяц почти не влияет на целевой признак. Возможно, требуется время чтобы маркетинговые интервенции возымели эффект.\n",
    "* Общая продолжительность пользования сервисом повышает целевой признак, т.е. более старые пользователи более склонны к снижению покупательской активности чем более новые, хотя зависимость относительно слабая. Возможно исправить это поможет бонусная программа для пользователей-ветеранов.\n",
    "* Парадоксальным образом рост числа ошибок сервиса приводит к снижению целевого признака, однако малая значимость этого параметра позволяет предположить, что это ошибка модели - пользователи, проводящие больше времени на сайте, также чаще испытывают ошибки, возможно модель недостаточно учла этот факт.\n",
    "* Наконец, покупка товаров категории бытовой электроники и техники для красоты и здоровья снижает целевой признак, остальные категории слабо влияют на этот показатель. \n",
    "* Все остальные категории слабо влияют на целевой признак. В частности, отправка дополнительной информации по товару не влияет на поргноз активности пользователя, так что это не очень эффективный способ привлечения клиентов. Также не влияют и уровень сервиса, и разсер выручки; это означает что отток клиентов мало зависит от их уровня доходов."
   ]
  },
  {
   "cell_type": "markdown",
   "metadata": {},
   "source": [
    "<font color='blue'><b>Комментарий ревьюера : </b></font> ✔️\\\n",
    "<font color='green'> 👍</font>"
   ]
  },
  {
   "cell_type": "markdown",
   "metadata": {},
   "source": [
    "## Сегментация покупателей"
   ]
  },
  {
   "cell_type": "markdown",
   "metadata": {},
   "source": [
    "Наша цель - увеличить прибыли заказчика. Для этого необходимо снизить отток клиентов, приносящих максимальную прибыль. Здесь мы выделим категорию клиентов с высокой прибылью и высокой вероятностью снижения активности и поанализируем отличие этой категории от общей выборки."
   ]
  },
  {
   "cell_type": "markdown",
   "metadata": {},
   "source": [
    "Добавим к тестовой выборке столбцы с прибылью и предсказанной вероятностью снижения активности и построим по ним диаграмму рассеяния."
   ]
  },
  {
   "cell_type": "code",
   "execution_count": null,
   "metadata": {},
   "outputs": [],
   "source": [
    "X = df_market.drop('Покупательская активность',axis=1)"
   ]
  },
  {
   "cell_type": "code",
   "execution_count": null,
   "metadata": {},
   "outputs": [],
   "source": [
    "model.predict_proba(X)[:,1]"
   ]
  },
  {
   "cell_type": "code",
   "execution_count": null,
   "metadata": {},
   "outputs": [],
   "source": [
    "X['Вероятность_снижения_активности'] = model.predict_proba(X)[:,1]"
   ]
  },
  {
   "cell_type": "code",
   "execution_count": null,
   "metadata": {},
   "outputs": [],
   "source": [
    "X['Прибыль'] = df_profit['Прибыль']"
   ]
  },
  {
   "cell_type": "markdown",
   "metadata": {},
   "source": [
    "<font color='blue'><b>Комментарий ревьюера: </b></font> ⚠️\\\n",
    "<font color='darkorange'>Сегментацию следует провести на полном Датафрейме. В тестовой выборке слишком мало примеров.</font>"
   ]
  },
  {
   "cell_type": "markdown",
   "metadata": {},
   "source": [
    "<div class=\"alert-info\">\n",
    "Исправлено\n",
    "</div>"
   ]
  },
  {
   "cell_type": "markdown",
   "metadata": {},
   "source": [
    "<span style=\"color: blue; font-weight: bold\">Комментарий ревьюера 2: </span> ✔️\\\n",
    "<span style=\"color: green\"> 👍</span>"
   ]
  },
  {
   "cell_type": "code",
   "execution_count": null,
   "metadata": {},
   "outputs": [],
   "source": [
    "X.plot.scatter('Прибыль', 'Вероятность_снижения_активности', figsize=(10,10));"
   ]
  },
  {
   "cell_type": "markdown",
   "metadata": {},
   "source": [
    "По диаграмме видно, что большинство клиентов не будут снижать активность, а также что снижение активности в целом слабо зависит от прибыли. Введем новую переменную риск, равную произведению прибыли на вероятность снижения покупательской активности, так что клиенты с высоким ее значением будут наиболее проблемными для компании."
   ]
  },
  {
   "cell_type": "code",
   "execution_count": null,
   "metadata": {},
   "outputs": [],
   "source": [
    "X['риск'] = X['Вероятность_снижения_активности']*X['Прибыль']"
   ]
  },
  {
   "cell_type": "markdown",
   "metadata": {},
   "source": [
    "Рассмотрим гистограмму значений этого параметра."
   ]
  },
  {
   "cell_type": "code",
   "execution_count": null,
   "metadata": {},
   "outputs": [],
   "source": [
    "X['риск'].hist(bins=50)"
   ]
  },
  {
   "cell_type": "markdown",
   "metadata": {},
   "source": [
    "Разделим датасет на высокорисковую и низкорисковую часть и поанализируем равспределение параметров в этих группах."
   ]
  },
  {
   "cell_type": "code",
   "execution_count": null,
   "metadata": {},
   "outputs": [],
   "source": [
    "X_high_risk = X[X['риск']>=2]\n",
    "X_low_risk = X[X['риск']<2]"
   ]
  },
  {
   "cell_type": "markdown",
   "metadata": {},
   "source": [
    "<font color='blue'><b>Комментарий ревьюера : </b></font> ✔️\\\n",
    "<font color='green'> 👍</font>"
   ]
  },
  {
   "cell_type": "code",
   "execution_count": null,
   "metadata": {},
   "outputs": [],
   "source": [
    "X_high_risk['Маркет_актив_6_мес'].hist(bins=50)\n",
    "X_low_risk['Маркет_актив_6_мес'].hist(bins=50, alpha=0.5)\n",
    "plt.legend(['высокий риск','низкий риск'])\n",
    "plt.vlines(X_high_risk['Маркет_актив_6_мес'].mean(), 0, 25, color='blue')\n",
    "plt.vlines(X_low_risk['Маркет_актив_6_мес'].mean(), 0, 25, color='yellow')\n",
    "plt.title('Маркетологическая акттивность за полгода');"
   ]
  },
  {
   "cell_type": "markdown",
   "metadata": {},
   "source": [
    "Как мы и предполагали, маркетологическая активность снижает риск потери прибыли."
   ]
  },
  {
   "cell_type": "code",
   "execution_count": null,
   "metadata": {},
   "outputs": [],
   "source": [
    "X_high_risk['Длительность'].hist(bins=50)\n",
    "X_low_risk['Длительность'].hist(bins=50, alpha=0.5)\n",
    "plt.legend(['высокий риск','низкий риск'])\n",
    "plt.vlines(X_high_risk['Длительность'].mean(), 0, 25, color='blue')\n",
    "plt.vlines(X_low_risk['Длительность'].mean(), 0, 25, color='yellow')\n",
    "plt.title('Общая продолжительность регистрации');"
   ]
  },
  {
   "cell_type": "markdown",
   "metadata": {},
   "source": [
    "Также видно что более старые клиенты с большей вероятностью снизят прибыль для компании."
   ]
  },
  {
   "cell_type": "markdown",
   "metadata": {},
   "source": [
    "Теперь проанализируем зависимость от доли акционных покупок. Ранее мы уже отмечали неравномерное распределение доли акционных покупок, можно предположить что ненадежные клиенты, покупающие товары в основном по акциям, приносят низкую прибыль, так что поддержание их численности все равно не очень важно. "
   ]
  },
  {
   "cell_type": "code",
   "execution_count": null,
   "metadata": {},
   "outputs": [],
   "source": [
    "X_high_risk['Акционные_покупки'].hist(bins=50)\n",
    "X_low_risk['Акционные_покупки'].hist(bins=50, alpha=0.5)\n",
    "plt.legend(['высокий риск','низкий риск'])\n",
    "plt.vlines(X_high_risk['Акционные_покупки'].mean(), 0, 25, color='blue')\n",
    "plt.vlines(X_low_risk['Акционные_покупки'].mean(), 0, 25, color='yellow')\n",
    "plt.title('Доля акционных товаров');"
   ]
  },
  {
   "cell_type": "markdown",
   "metadata": {},
   "source": [
    "Как видно из графика, клиенты с высоеим риском потери прибыли также в среднем покупают больше акционных товаров, так что наше предположение не подтверждается. Таким образом, возможно имеет смысл расширить работу с этой категорией клиентов."
   ]
  },
  {
   "cell_type": "code",
   "execution_count": null,
   "metadata": {},
   "outputs": [],
   "source": [
    "dat = pd.DataFrame({'Высокий_риск':(X_high_risk['Популярная_категория'].value_counts()/X_high_risk['Популярная_категория'].count()).values,\n",
    "             'Низкий_риск':(X_low_risk['Популярная_категория'].value_counts()/X_low_risk['Популярная_категория'].count()).values},\n",
    "            index=X_high_risk['Популярная_категория'].value_counts().index)\n",
    "dat.plot.bar()\n",
    "plt.title('Популярная категория');"
   ]
  },
  {
   "cell_type": "markdown",
   "metadata": {},
   "source": [
    "Как и предполагалось, наиболее 'стабильными' категориями являются техника для красоты и здоровья и мелкая бытовая техника. С другой стороны, наибольшая разница между высокорисковыми и низкорисковыми клиентами в пользу первых наблюдается в товарах для детей и домашнем текстиле и кухонной посуде, можно порекомендовать дополнительные акции для покупателей этой категории товаров. "
   ]
  },
  {
   "cell_type": "markdown",
   "metadata": {},
   "source": [
    "<font color='blue'><b>Комментарий ревьюера : </b></font> ✔️\\\n",
    "<font color='green'> 👍</font>"
   ]
  },
  {
   "cell_type": "markdown",
   "metadata": {},
   "source": [
    "## Заключение"
   ]
  },
  {
   "cell_type": "markdown",
   "metadata": {},
   "source": [
    "Мы провели анализ данных интернет магазина В Один Клик с целью предсказать вероятность снижения покупательской активности клиентов и составления рекомендаций по сохранению клиентов. Для этого мы провели подбор модели и гиперпараметров с целью оптимизации метрики ROC-AUC, оптимальной моделью оказалась модель логистической регрессии, для интерпретации модели использовалась библиотека SHAP.\n",
    "По результатам анализа мы можем сделать следующие рекомендации:\n",
    "* Лучшими предикторами снижения покупательской активности являются снижения времени поведенного на сайте, числа посмотренных страниц и категорий. Клиентам со снижающимися показателями посещаемости можно предоставлять бонусные предложения для избежания их потери.\n",
    "* Риск снижения покупательской активности растет с долей акционных покупок, при этом клиентоы, покупающие товары только по акции, также приносят значительную прибыль. Можно порекомендовать активизировать работу с этой группой клиентов.  \n",
    "* Рост числа маркетинговых коммуникаций приводит к снижению риска потери клиента, однако положительный эффект от маркетинговых коммуникаций наступает позднее чем через месяц от их начала. \n",
    "* Пользователи, пользовавшиеся сервисом долгое время, с большей вероятностей снизят покупательскую активность чем новые пользователи. Можно порекомендовать расширение бонусных программ для старых пользователей.\n",
    "* Наименьший риск снижения прибыли среди пользователей предпочитающий технику для красоты и здоровья и мелкую бытовую техника, риск слегка повышен среди покупателей товаров для детей, домашнего текстиля и кухонной посуды, можно рекоммендовать бонусные программы для этих групп пользователей. "
   ]
  },
  {
   "cell_type": "markdown",
   "metadata": {},
   "source": [
    "<font color='blue'><b>Комментарий ревьюера : </b></font> ✔️\\\n",
    "<font color='green'> Очень приятно видеть вывод в конце проекта!\\\n",
    "Приведены ответы на главные вопросы проекта.</font>"
   ]
  },
  {
   "cell_type": "markdown",
   "metadata": {},
   "source": [
    "<font color='blue'><b>Итоговый комментарий ревьюера</b></font>\\\n",
    "<font color='green'>Наталья, хороший проект получился!\n",
    "Большое спасибо за проделанную работу. Видно, что приложено много усилий.\n",
    "Выводы и рассуждения получились содержательными, их было интересно читать.\n",
    "</font>\n",
    "\n",
    "<font color='steelblue'>Над проектом ещё стоит поработать - есть рекомендации по дополнению некоторых твоих шагов проекта. Такие рекомендации я отметил жёлтыми комментариями. Будет здорово, если ты учтёшь их - так проект станет структурно и содержательно более совершенным.\n",
    "\n",
    "Также в работе есть критические замечания. К этим замечаниям я оставил пояснительные комментарии красного цвета, в которых перечислил возможные варианты дальнейших действий. Уверен, ты быстро с этим управишься:)\n",
    "\n",
    "Если о том, что нужно сделать в рамках комментариев, будут возникать вопросы - оставь их, пожалуйста, в комментариях, и я отвечу на них во время следующего ревью.\n",
    "\n",
    "Также буду рад ответить на любые твои вопросы по проекту или на какие-либо другие, если они у тебя имеются - оставь их в комментариях, и я постараюсь ответить:)</font>\n",
    "\n",
    "<font color='blue'><b>Жду твой проект на повторном ревью. До встречи :) </b></font>\n"
   ]
  },
  {
   "cell_type": "markdown",
   "metadata": {},
   "source": [
    "<font color='blue'><b>Итоговый комментарий ревьюера 2</b></font>\\\n",
    "<font color='green'> Наталья, проект принят! \\\n",
    "Все этапы пройдены. Все рекомендации учтены.\\\n",
    "Надеюсь, тебе понравился процесс выполнения и результат.</font> \\\n",
    "<font color='blue'><b>Спасибо, удачи в освоении профессии!</b></font>"
   ]
  }
 ],
 "metadata": {
  "ExecuteTimeLog": [
   {
    "duration": 404,
    "start_time": "2024-07-10T02:24:39.322Z"
   },
   {
    "duration": 97,
    "start_time": "2024-07-10T02:26:23.234Z"
   },
   {
    "duration": 119,
    "start_time": "2024-07-10T02:26:51.171Z"
   },
   {
    "duration": 66,
    "start_time": "2024-07-10T02:28:30.440Z"
   },
   {
    "duration": 200,
    "start_time": "2024-07-10T02:28:38.803Z"
   },
   {
    "duration": 129,
    "start_time": "2024-07-10T02:28:44.546Z"
   },
   {
    "duration": 36,
    "start_time": "2024-07-10T02:28:55.512Z"
   },
   {
    "duration": 16,
    "start_time": "2024-07-10T02:29:05.443Z"
   },
   {
    "duration": 9,
    "start_time": "2024-07-10T02:29:08.392Z"
   },
   {
    "duration": 11,
    "start_time": "2024-07-10T02:31:11.668Z"
   },
   {
    "duration": 14,
    "start_time": "2024-07-10T02:31:32.955Z"
   },
   {
    "duration": 8,
    "start_time": "2024-07-10T02:31:43.288Z"
   },
   {
    "duration": 6,
    "start_time": "2024-07-10T02:32:21.391Z"
   },
   {
    "duration": 5,
    "start_time": "2024-07-10T02:32:30.650Z"
   },
   {
    "duration": 6,
    "start_time": "2024-07-10T02:32:41.809Z"
   },
   {
    "duration": 5,
    "start_time": "2024-07-10T02:32:51.049Z"
   },
   {
    "duration": 6,
    "start_time": "2024-07-10T04:03:35.816Z"
   },
   {
    "duration": 11,
    "start_time": "2024-07-10T04:04:39.606Z"
   },
   {
    "duration": 7,
    "start_time": "2024-07-10T04:04:57.465Z"
   },
   {
    "duration": 7,
    "start_time": "2024-07-10T04:05:06.584Z"
   },
   {
    "duration": 6,
    "start_time": "2024-07-10T04:05:14.493Z"
   },
   {
    "duration": 9,
    "start_time": "2024-07-10T04:05:29.135Z"
   },
   {
    "duration": 6,
    "start_time": "2024-07-10T04:05:42.869Z"
   },
   {
    "duration": 8,
    "start_time": "2024-07-10T04:05:48.237Z"
   },
   {
    "duration": 9,
    "start_time": "2024-07-10T04:06:00.709Z"
   },
   {
    "duration": 7,
    "start_time": "2024-07-10T04:06:14.127Z"
   },
   {
    "duration": 9,
    "start_time": "2024-07-10T04:07:58.633Z"
   },
   {
    "duration": 23,
    "start_time": "2024-07-10T04:08:49.165Z"
   },
   {
    "duration": 14,
    "start_time": "2024-07-10T04:15:08.057Z"
   },
   {
    "duration": 11,
    "start_time": "2024-07-10T04:15:21.882Z"
   },
   {
    "duration": 5,
    "start_time": "2024-07-10T04:15:54.768Z"
   },
   {
    "duration": 6,
    "start_time": "2024-07-10T04:16:29.429Z"
   },
   {
    "duration": 7,
    "start_time": "2024-07-10T04:16:58.523Z"
   },
   {
    "duration": 7,
    "start_time": "2024-07-10T04:17:19.433Z"
   },
   {
    "duration": 4,
    "start_time": "2024-07-10T04:17:28.451Z"
   },
   {
    "duration": 4,
    "start_time": "2024-07-10T04:17:44.919Z"
   },
   {
    "duration": 3,
    "start_time": "2024-07-10T04:17:48.908Z"
   },
   {
    "duration": 5,
    "start_time": "2024-07-10T04:17:52.832Z"
   },
   {
    "duration": 4,
    "start_time": "2024-07-10T04:18:00.689Z"
   },
   {
    "duration": 4,
    "start_time": "2024-07-10T04:18:17.616Z"
   },
   {
    "duration": 11,
    "start_time": "2024-07-10T04:19:49.650Z"
   },
   {
    "duration": 9,
    "start_time": "2024-07-10T04:19:57.776Z"
   },
   {
    "duration": 7,
    "start_time": "2024-07-10T04:20:25.601Z"
   },
   {
    "duration": 10,
    "start_time": "2024-07-10T04:23:18.587Z"
   },
   {
    "duration": 40,
    "start_time": "2024-07-10T04:23:55.417Z"
   },
   {
    "duration": 4,
    "start_time": "2024-07-10T04:46:22.770Z"
   },
   {
    "duration": 1036,
    "start_time": "2024-07-10T04:46:52.928Z"
   },
   {
    "duration": 589,
    "start_time": "2024-07-10T04:47:19.725Z"
   },
   {
    "duration": 544,
    "start_time": "2024-07-10T04:47:23.327Z"
   },
   {
    "duration": 741,
    "start_time": "2024-07-10T04:47:35.538Z"
   },
   {
    "duration": 1080,
    "start_time": "2024-07-10T04:49:18.078Z"
   },
   {
    "duration": 157,
    "start_time": "2024-07-10T04:50:24.906Z"
   },
   {
    "duration": 22,
    "start_time": "2024-07-10T04:50:57.235Z"
   },
   {
    "duration": 146,
    "start_time": "2024-07-10T04:51:08.337Z"
   },
   {
    "duration": 7,
    "start_time": "2024-07-10T04:51:25.343Z"
   },
   {
    "duration": 255,
    "start_time": "2024-07-10T04:51:33.339Z"
   },
   {
    "duration": 434,
    "start_time": "2024-07-10T07:25:04.545Z"
   },
   {
    "duration": 3,
    "start_time": "2024-07-10T07:25:16.041Z"
   },
   {
    "duration": 297,
    "start_time": "2024-07-10T07:25:16.046Z"
   },
   {
    "duration": 31,
    "start_time": "2024-07-10T07:25:16.345Z"
   },
   {
    "duration": 49,
    "start_time": "2024-07-10T07:25:16.377Z"
   },
   {
    "duration": 50,
    "start_time": "2024-07-10T07:25:16.429Z"
   },
   {
    "duration": 38,
    "start_time": "2024-07-10T07:25:16.480Z"
   },
   {
    "duration": 620,
    "start_time": "2024-07-10T07:25:16.521Z"
   },
   {
    "duration": 10,
    "start_time": "2024-07-10T07:25:17.143Z"
   },
   {
    "duration": 75,
    "start_time": "2024-07-10T07:25:29.925Z"
   },
   {
    "duration": 104,
    "start_time": "2024-07-10T07:25:36.882Z"
   },
   {
    "duration": 284,
    "start_time": "2024-07-10T07:25:40.462Z"
   },
   {
    "duration": 288,
    "start_time": "2024-07-10T07:26:20.258Z"
   },
   {
    "duration": 4,
    "start_time": "2024-07-10T07:26:35.596Z"
   },
   {
    "duration": 205,
    "start_time": "2024-07-10T07:27:40.313Z"
   },
   {
    "duration": 9,
    "start_time": "2024-07-10T07:28:07.461Z"
   },
   {
    "duration": 224,
    "start_time": "2024-07-10T07:28:16.529Z"
   },
   {
    "duration": 11,
    "start_time": "2024-07-10T07:28:27.447Z"
   },
   {
    "duration": 64,
    "start_time": "2024-07-10T07:28:32.131Z"
   },
   {
    "duration": 181,
    "start_time": "2024-07-10T07:28:37.925Z"
   },
   {
    "duration": 7,
    "start_time": "2024-07-10T07:29:13.667Z"
   },
   {
    "duration": 7,
    "start_time": "2024-07-10T07:29:22.839Z"
   },
   {
    "duration": 183,
    "start_time": "2024-07-10T07:29:50.639Z"
   },
   {
    "duration": 6,
    "start_time": "2024-07-10T07:31:28.681Z"
   },
   {
    "duration": 9,
    "start_time": "2024-07-10T07:34:41.893Z"
   },
   {
    "duration": 4,
    "start_time": "2024-07-10T07:38:13.554Z"
   },
   {
    "duration": 10,
    "start_time": "2024-07-10T07:38:18.540Z"
   },
   {
    "duration": 8,
    "start_time": "2024-07-10T07:38:34.014Z"
   },
   {
    "duration": 7,
    "start_time": "2024-07-10T07:38:38.408Z"
   },
   {
    "duration": 8,
    "start_time": "2024-07-10T07:38:46.350Z"
   },
   {
    "duration": 4,
    "start_time": "2024-07-10T07:38:50.126Z"
   },
   {
    "duration": 10,
    "start_time": "2024-07-10T07:38:54.957Z"
   },
   {
    "duration": 3,
    "start_time": "2024-07-10T07:39:07.226Z"
   },
   {
    "duration": 98,
    "start_time": "2024-07-10T07:39:07.231Z"
   },
   {
    "duration": 33,
    "start_time": "2024-07-10T07:39:07.331Z"
   },
   {
    "duration": 18,
    "start_time": "2024-07-10T07:39:07.366Z"
   },
   {
    "duration": 13,
    "start_time": "2024-07-10T07:39:07.387Z"
   },
   {
    "duration": 17,
    "start_time": "2024-07-10T07:39:07.402Z"
   },
   {
    "duration": 217,
    "start_time": "2024-07-10T07:39:07.421Z"
   },
   {
    "duration": 12,
    "start_time": "2024-07-10T07:39:07.639Z"
   },
   {
    "duration": 63,
    "start_time": "2024-07-10T07:39:07.653Z"
   },
   {
    "duration": 219,
    "start_time": "2024-07-10T07:39:07.718Z"
   },
   {
    "duration": 4,
    "start_time": "2024-07-10T07:39:07.938Z"
   },
   {
    "duration": 22,
    "start_time": "2024-07-10T07:39:07.945Z"
   },
   {
    "duration": 807,
    "start_time": "2024-07-10T07:39:07.969Z"
   },
   {
    "duration": 0,
    "start_time": "2024-07-10T07:39:08.777Z"
   },
   {
    "duration": 0,
    "start_time": "2024-07-10T07:39:08.779Z"
   },
   {
    "duration": 0,
    "start_time": "2024-07-10T07:39:08.780Z"
   },
   {
    "duration": 0,
    "start_time": "2024-07-10T07:39:08.781Z"
   },
   {
    "duration": 5,
    "start_time": "2024-07-10T07:40:52.041Z"
   },
   {
    "duration": 4,
    "start_time": "2024-07-10T07:41:16.727Z"
   },
   {
    "duration": 110,
    "start_time": "2024-07-10T07:41:16.733Z"
   },
   {
    "duration": 30,
    "start_time": "2024-07-10T07:41:16.845Z"
   },
   {
    "duration": 10,
    "start_time": "2024-07-10T07:41:16.877Z"
   },
   {
    "duration": 32,
    "start_time": "2024-07-10T07:41:16.889Z"
   },
   {
    "duration": 21,
    "start_time": "2024-07-10T07:41:16.923Z"
   },
   {
    "duration": 181,
    "start_time": "2024-07-10T07:41:16.946Z"
   },
   {
    "duration": 8,
    "start_time": "2024-07-10T07:41:17.129Z"
   },
   {
    "duration": 50,
    "start_time": "2024-07-10T07:41:17.139Z"
   },
   {
    "duration": 200,
    "start_time": "2024-07-10T07:41:17.191Z"
   },
   {
    "duration": 5,
    "start_time": "2024-07-10T07:41:21.746Z"
   },
   {
    "duration": 6,
    "start_time": "2024-07-10T07:41:27.370Z"
   },
   {
    "duration": 3,
    "start_time": "2024-07-10T07:41:36.273Z"
   },
   {
    "duration": 99,
    "start_time": "2024-07-10T07:41:36.278Z"
   },
   {
    "duration": 30,
    "start_time": "2024-07-10T07:41:36.378Z"
   },
   {
    "duration": 10,
    "start_time": "2024-07-10T07:41:36.409Z"
   },
   {
    "duration": 11,
    "start_time": "2024-07-10T07:41:36.422Z"
   },
   {
    "duration": 10,
    "start_time": "2024-07-10T07:41:36.435Z"
   },
   {
    "duration": 214,
    "start_time": "2024-07-10T07:41:36.447Z"
   },
   {
    "duration": 8,
    "start_time": "2024-07-10T07:41:36.663Z"
   },
   {
    "duration": 21,
    "start_time": "2024-07-10T07:41:36.672Z"
   },
   {
    "duration": 258,
    "start_time": "2024-07-10T07:41:36.695Z"
   },
   {
    "duration": 6,
    "start_time": "2024-07-10T07:41:36.955Z"
   },
   {
    "duration": 20,
    "start_time": "2024-07-10T07:41:36.962Z"
   },
   {
    "duration": 26,
    "start_time": "2024-07-10T07:41:36.984Z"
   },
   {
    "duration": 34,
    "start_time": "2024-07-10T07:41:37.012Z"
   },
   {
    "duration": 30,
    "start_time": "2024-07-10T07:41:37.047Z"
   },
   {
    "duration": 1316,
    "start_time": "2024-07-10T07:41:37.079Z"
   },
   {
    "duration": 8,
    "start_time": "2024-07-10T07:41:38.397Z"
   },
   {
    "duration": 4,
    "start_time": "2024-07-10T07:41:45.180Z"
   },
   {
    "duration": 6,
    "start_time": "2024-07-10T07:42:11.136Z"
   },
   {
    "duration": 4,
    "start_time": "2024-07-10T07:42:19.355Z"
   },
   {
    "duration": 6,
    "start_time": "2024-07-10T07:42:21.439Z"
   },
   {
    "duration": 4,
    "start_time": "2024-07-10T07:43:01.778Z"
   },
   {
    "duration": 6,
    "start_time": "2024-07-10T07:43:04.157Z"
   },
   {
    "duration": 5,
    "start_time": "2024-07-10T07:46:37.025Z"
   },
   {
    "duration": 14,
    "start_time": "2024-07-10T07:48:53.621Z"
   },
   {
    "duration": 14,
    "start_time": "2024-07-10T07:49:08.398Z"
   },
   {
    "duration": 15,
    "start_time": "2024-07-10T07:51:39.420Z"
   },
   {
    "duration": 18,
    "start_time": "2024-07-10T07:52:20.767Z"
   },
   {
    "duration": 21,
    "start_time": "2024-07-10T07:53:54.381Z"
   },
   {
    "duration": 3,
    "start_time": "2024-07-10T08:20:14.220Z"
   },
   {
    "duration": 88,
    "start_time": "2024-07-10T08:20:14.225Z"
   },
   {
    "duration": 32,
    "start_time": "2024-07-10T08:20:14.315Z"
   },
   {
    "duration": 9,
    "start_time": "2024-07-10T08:20:15.394Z"
   },
   {
    "duration": 36,
    "start_time": "2024-07-10T08:20:15.405Z"
   },
   {
    "duration": 28,
    "start_time": "2024-07-10T08:20:15.443Z"
   },
   {
    "duration": 17,
    "start_time": "2024-07-10T08:20:15.472Z"
   },
   {
    "duration": 11,
    "start_time": "2024-07-10T08:21:16.331Z"
   },
   {
    "duration": 8,
    "start_time": "2024-07-10T08:21:26.235Z"
   },
   {
    "duration": 21,
    "start_time": "2024-07-10T08:21:38.144Z"
   },
   {
    "duration": 3,
    "start_time": "2024-07-10T08:22:31.461Z"
   },
   {
    "duration": 291,
    "start_time": "2024-07-10T08:22:31.466Z"
   },
   {
    "duration": 374,
    "start_time": "2024-07-10T08:22:31.759Z"
   },
   {
    "duration": 11,
    "start_time": "2024-07-10T08:22:32.134Z"
   },
   {
    "duration": 35,
    "start_time": "2024-07-10T08:22:32.147Z"
   },
   {
    "duration": 14,
    "start_time": "2024-07-10T08:22:32.184Z"
   },
   {
    "duration": 29,
    "start_time": "2024-07-10T08:22:32.200Z"
   },
   {
    "duration": 44,
    "start_time": "2024-07-10T08:22:32.231Z"
   },
   {
    "duration": 12,
    "start_time": "2024-07-10T08:23:03.251Z"
   },
   {
    "duration": 16,
    "start_time": "2024-07-10T08:23:06.753Z"
   },
   {
    "duration": 1002,
    "start_time": "2024-07-10T08:26:54.720Z"
   },
   {
    "duration": 1038,
    "start_time": "2024-07-10T08:27:20.266Z"
   },
   {
    "duration": 5,
    "start_time": "2024-07-10T08:27:36.922Z"
   },
   {
    "duration": 4,
    "start_time": "2024-07-10T08:28:02.775Z"
   },
   {
    "duration": 5,
    "start_time": "2024-07-10T08:28:05.914Z"
   },
   {
    "duration": 8,
    "start_time": "2024-07-10T08:29:08.069Z"
   },
   {
    "duration": 16,
    "start_time": "2024-07-10T08:29:12.212Z"
   },
   {
    "duration": 52,
    "start_time": "2024-07-10T08:40:51.002Z"
   },
   {
    "duration": 24,
    "start_time": "2024-07-10T08:42:40.577Z"
   },
   {
    "duration": 605,
    "start_time": "2024-07-10T08:46:11.405Z"
   },
   {
    "duration": 66,
    "start_time": "2024-07-10T08:47:21.947Z"
   },
   {
    "duration": 220,
    "start_time": "2024-07-10T08:48:38.329Z"
   },
   {
    "duration": 848,
    "start_time": "2024-07-10T11:58:13.983Z"
   },
   {
    "duration": 341,
    "start_time": "2024-07-10T11:58:14.833Z"
   },
   {
    "duration": 32,
    "start_time": "2024-07-10T11:58:15.175Z"
   },
   {
    "duration": 12,
    "start_time": "2024-07-10T11:58:15.209Z"
   },
   {
    "duration": 21,
    "start_time": "2024-07-10T11:58:15.222Z"
   },
   {
    "duration": 11,
    "start_time": "2024-07-10T11:58:15.244Z"
   },
   {
    "duration": 18,
    "start_time": "2024-07-10T11:58:15.256Z"
   },
   {
    "duration": 60,
    "start_time": "2024-07-10T11:58:15.276Z"
   },
   {
    "duration": 22,
    "start_time": "2024-07-10T11:58:15.339Z"
   },
   {
    "duration": 9,
    "start_time": "2024-07-10T11:58:15.364Z"
   },
   {
    "duration": 22,
    "start_time": "2024-07-10T11:58:15.375Z"
   },
   {
    "duration": 95,
    "start_time": "2024-07-10T11:58:15.399Z"
   },
   {
    "duration": 646,
    "start_time": "2024-07-10T11:58:15.496Z"
   },
   {
    "duration": 9,
    "start_time": "2024-07-10T11:58:16.143Z"
   },
   {
    "duration": 197,
    "start_time": "2024-07-10T11:58:16.153Z"
   },
   {
    "duration": 6,
    "start_time": "2024-07-10T11:58:16.352Z"
   },
   {
    "duration": 44,
    "start_time": "2024-07-10T11:58:16.359Z"
   },
   {
    "duration": 6,
    "start_time": "2024-07-10T11:58:16.405Z"
   },
   {
    "duration": 17,
    "start_time": "2024-07-10T11:58:16.412Z"
   },
   {
    "duration": 11,
    "start_time": "2024-07-10T11:58:16.430Z"
   },
   {
    "duration": 1848,
    "start_time": "2024-07-10T11:58:16.442Z"
   },
   {
    "duration": 9,
    "start_time": "2024-07-10T11:58:18.292Z"
   },
   {
    "duration": 16,
    "start_time": "2024-07-10T11:58:18.302Z"
   },
   {
    "duration": 9,
    "start_time": "2024-07-10T11:58:18.320Z"
   },
   {
    "duration": 45,
    "start_time": "2024-07-10T11:58:18.331Z"
   },
   {
    "duration": 21,
    "start_time": "2024-07-10T11:58:18.377Z"
   },
   {
    "duration": 335,
    "start_time": "2024-07-10T11:58:18.400Z"
   },
   {
    "duration": 28,
    "start_time": "2024-07-10T11:58:19.043Z"
   },
   {
    "duration": 398,
    "start_time": "2024-07-10T12:00:59.959Z"
   },
   {
    "duration": 124,
    "start_time": "2024-07-10T12:05:44.714Z"
   },
   {
    "duration": 6455,
    "start_time": "2024-07-10T12:06:11.692Z"
   },
   {
    "duration": 4,
    "start_time": "2024-07-10T12:07:11.432Z"
   },
   {
    "duration": 6411,
    "start_time": "2024-07-10T12:07:30.410Z"
   },
   {
    "duration": 219,
    "start_time": "2024-07-10T12:10:32.566Z"
   },
   {
    "duration": 2169,
    "start_time": "2024-07-10T12:11:44.519Z"
   },
   {
    "duration": 26,
    "start_time": "2024-07-10T12:38:45.407Z"
   },
   {
    "duration": 4,
    "start_time": "2024-07-10T12:38:59.146Z"
   },
   {
    "duration": 4,
    "start_time": "2024-07-10T12:39:17.991Z"
   },
   {
    "duration": 5,
    "start_time": "2024-07-10T12:39:21.248Z"
   },
   {
    "duration": 2129,
    "start_time": "2024-07-10T12:39:24.633Z"
   },
   {
    "duration": 4854,
    "start_time": "2024-07-10T12:42:04.104Z"
   },
   {
    "duration": 530,
    "start_time": "2024-07-10T12:42:59.854Z"
   },
   {
    "duration": 2151,
    "start_time": "2024-07-10T12:50:55.454Z"
   },
   {
    "duration": 2068,
    "start_time": "2024-07-10T12:51:12.545Z"
   },
   {
    "duration": 11,
    "start_time": "2024-07-10T12:52:03.144Z"
   },
   {
    "duration": 9,
    "start_time": "2024-07-10T12:52:56.995Z"
   },
   {
    "duration": 13,
    "start_time": "2024-07-10T12:53:51.607Z"
   },
   {
    "duration": 2103,
    "start_time": "2024-07-10T12:54:06.670Z"
   },
   {
    "duration": 2227,
    "start_time": "2024-07-10T12:54:12.958Z"
   },
   {
    "duration": 13,
    "start_time": "2024-07-10T12:54:26.357Z"
   },
   {
    "duration": 74,
    "start_time": "2024-07-10T12:55:52.719Z"
   },
   {
    "duration": 1976,
    "start_time": "2024-07-10T13:50:41.791Z"
   },
   {
    "duration": 2036,
    "start_time": "2024-07-10T13:51:07.254Z"
   },
   {
    "duration": 2238,
    "start_time": "2024-07-10T13:51:51.886Z"
   },
   {
    "duration": 2004,
    "start_time": "2024-07-10T13:52:46.396Z"
   },
   {
    "duration": 73,
    "start_time": "2024-07-10T13:55:46.899Z"
   },
   {
    "duration": 70,
    "start_time": "2024-07-10T13:55:57.547Z"
   },
   {
    "duration": 73,
    "start_time": "2024-07-10T13:56:28.599Z"
   },
   {
    "duration": 73,
    "start_time": "2024-07-10T13:57:23.334Z"
   },
   {
    "duration": 1973,
    "start_time": "2024-07-10T13:57:35.308Z"
   },
   {
    "duration": 23,
    "start_time": "2024-07-10T13:58:32.007Z"
   },
   {
    "duration": 4,
    "start_time": "2024-07-10T13:58:41.929Z"
   },
   {
    "duration": 235,
    "start_time": "2024-07-10T13:58:47.047Z"
   },
   {
    "duration": 2191,
    "start_time": "2024-07-10T13:59:55.679Z"
   },
   {
    "duration": 2026,
    "start_time": "2024-07-10T14:05:44.630Z"
   },
   {
    "duration": 4080,
    "start_time": "2024-07-11T03:51:53.106Z"
   },
   {
    "duration": 2137,
    "start_time": "2024-07-11T03:51:57.188Z"
   },
   {
    "duration": 268,
    "start_time": "2024-07-11T03:51:59.326Z"
   },
   {
    "duration": 32,
    "start_time": "2024-07-11T03:51:59.596Z"
   },
   {
    "duration": 10,
    "start_time": "2024-07-11T03:51:59.630Z"
   },
   {
    "duration": 17,
    "start_time": "2024-07-11T03:51:59.642Z"
   },
   {
    "duration": 7,
    "start_time": "2024-07-11T03:51:59.660Z"
   },
   {
    "duration": 4,
    "start_time": "2024-07-11T03:51:59.669Z"
   },
   {
    "duration": 42,
    "start_time": "2024-07-11T03:51:59.674Z"
   },
   {
    "duration": 8,
    "start_time": "2024-07-11T03:51:59.717Z"
   },
   {
    "duration": 4,
    "start_time": "2024-07-11T03:51:59.727Z"
   },
   {
    "duration": 6,
    "start_time": "2024-07-11T03:51:59.732Z"
   },
   {
    "duration": 6,
    "start_time": "2024-07-11T03:51:59.740Z"
   },
   {
    "duration": 259,
    "start_time": "2024-07-11T03:51:59.749Z"
   },
   {
    "duration": 6,
    "start_time": "2024-07-11T03:52:00.010Z"
   },
   {
    "duration": 201,
    "start_time": "2024-07-11T03:52:00.017Z"
   },
   {
    "duration": 5,
    "start_time": "2024-07-11T03:52:00.219Z"
   },
   {
    "duration": 78,
    "start_time": "2024-07-11T03:52:00.225Z"
   },
   {
    "duration": 79,
    "start_time": "2024-07-11T03:52:00.304Z"
   },
   {
    "duration": 40,
    "start_time": "2024-07-11T03:52:00.385Z"
   },
   {
    "duration": 41,
    "start_time": "2024-07-11T03:52:00.427Z"
   },
   {
    "duration": 1928,
    "start_time": "2024-07-11T03:52:00.469Z"
   },
   {
    "duration": 12,
    "start_time": "2024-07-11T03:52:02.399Z"
   },
   {
    "duration": 4,
    "start_time": "2024-07-11T03:52:02.413Z"
   },
   {
    "duration": 14,
    "start_time": "2024-07-11T03:52:02.418Z"
   },
   {
    "duration": 49,
    "start_time": "2024-07-11T03:52:02.434Z"
   },
   {
    "duration": 39,
    "start_time": "2024-07-11T03:52:02.484Z"
   },
   {
    "duration": 293,
    "start_time": "2024-07-11T03:52:02.525Z"
   },
   {
    "duration": 87,
    "start_time": "2024-07-11T03:52:02.820Z"
   },
   {
    "duration": 6,
    "start_time": "2024-07-11T03:52:02.909Z"
   },
   {
    "duration": 6,
    "start_time": "2024-07-11T03:52:03.006Z"
   },
   {
    "duration": 2061,
    "start_time": "2024-07-11T03:52:03.014Z"
   },
   {
    "duration": 171,
    "start_time": "2024-07-11T03:52:16.496Z"
   },
   {
    "duration": 21,
    "start_time": "2024-07-11T03:52:27.726Z"
   },
   {
    "duration": 37,
    "start_time": "2024-07-11T03:52:38.610Z"
   },
   {
    "duration": 24,
    "start_time": "2024-07-11T03:53:14.988Z"
   },
   {
    "duration": 29,
    "start_time": "2024-07-11T03:53:31.675Z"
   },
   {
    "duration": 32,
    "start_time": "2024-07-11T03:53:41.440Z"
   },
   {
    "duration": 21,
    "start_time": "2024-07-11T03:55:28.223Z"
   },
   {
    "duration": 169,
    "start_time": "2024-07-11T03:55:43.002Z"
   },
   {
    "duration": 4,
    "start_time": "2024-07-11T04:10:54.932Z"
   },
   {
    "duration": 20,
    "start_time": "2024-07-11T04:12:04.012Z"
   },
   {
    "duration": 30,
    "start_time": "2024-07-11T04:12:57.388Z"
   },
   {
    "duration": 4,
    "start_time": "2024-07-11T04:13:52.686Z"
   },
   {
    "duration": 50399,
    "start_time": "2024-07-11T04:13:55.982Z"
   },
   {
    "duration": 49810,
    "start_time": "2024-07-11T04:15:38.997Z"
   },
   {
    "duration": 5,
    "start_time": "2024-07-11T04:18:10.374Z"
   },
   {
    "duration": 4,
    "start_time": "2024-07-11T04:18:20.661Z"
   },
   {
    "duration": 22,
    "start_time": "2024-07-11T04:18:24.722Z"
   },
   {
    "duration": 5,
    "start_time": "2024-07-11T04:18:33.556Z"
   },
   {
    "duration": 81,
    "start_time": "2024-07-11T04:18:56.433Z"
   },
   {
    "duration": 0,
    "start_time": "2024-07-11T07:36:25.595Z"
   },
   {
    "duration": 0,
    "start_time": "2024-07-11T07:36:25.605Z"
   },
   {
    "duration": 0,
    "start_time": "2024-07-11T07:36:25.606Z"
   },
   {
    "duration": 0,
    "start_time": "2024-07-11T07:36:25.607Z"
   },
   {
    "duration": 0,
    "start_time": "2024-07-11T07:36:25.608Z"
   },
   {
    "duration": 0,
    "start_time": "2024-07-11T07:36:25.609Z"
   },
   {
    "duration": 0,
    "start_time": "2024-07-11T07:36:25.610Z"
   },
   {
    "duration": 0,
    "start_time": "2024-07-11T07:36:25.611Z"
   },
   {
    "duration": 0,
    "start_time": "2024-07-11T07:36:25.612Z"
   },
   {
    "duration": 0,
    "start_time": "2024-07-11T07:36:25.613Z"
   },
   {
    "duration": 0,
    "start_time": "2024-07-11T07:36:25.614Z"
   },
   {
    "duration": 0,
    "start_time": "2024-07-11T07:36:25.615Z"
   },
   {
    "duration": 0,
    "start_time": "2024-07-11T07:36:25.616Z"
   },
   {
    "duration": 0,
    "start_time": "2024-07-11T07:36:25.617Z"
   },
   {
    "duration": 0,
    "start_time": "2024-07-11T07:36:25.618Z"
   },
   {
    "duration": 0,
    "start_time": "2024-07-11T07:36:25.619Z"
   },
   {
    "duration": 0,
    "start_time": "2024-07-11T07:36:25.620Z"
   },
   {
    "duration": 0,
    "start_time": "2024-07-11T07:36:25.621Z"
   },
   {
    "duration": 0,
    "start_time": "2024-07-11T07:36:25.622Z"
   },
   {
    "duration": 0,
    "start_time": "2024-07-11T07:36:25.623Z"
   },
   {
    "duration": 0,
    "start_time": "2024-07-11T07:36:25.624Z"
   },
   {
    "duration": 0,
    "start_time": "2024-07-11T07:36:25.625Z"
   },
   {
    "duration": 0,
    "start_time": "2024-07-11T07:36:25.626Z"
   },
   {
    "duration": 0,
    "start_time": "2024-07-11T07:36:25.627Z"
   },
   {
    "duration": 0,
    "start_time": "2024-07-11T07:36:25.628Z"
   },
   {
    "duration": 0,
    "start_time": "2024-07-11T07:36:25.629Z"
   },
   {
    "duration": 0,
    "start_time": "2024-07-11T07:36:25.630Z"
   },
   {
    "duration": 0,
    "start_time": "2024-07-11T07:36:25.631Z"
   },
   {
    "duration": 0,
    "start_time": "2024-07-11T07:36:25.632Z"
   },
   {
    "duration": 0,
    "start_time": "2024-07-11T07:36:25.633Z"
   },
   {
    "duration": 0,
    "start_time": "2024-07-11T07:36:25.634Z"
   },
   {
    "duration": 0,
    "start_time": "2024-07-11T07:36:25.636Z"
   },
   {
    "duration": 0,
    "start_time": "2024-07-11T07:36:25.637Z"
   },
   {
    "duration": 147,
    "start_time": "2024-07-11T07:36:38.181Z"
   },
   {
    "duration": 130,
    "start_time": "2024-07-11T07:38:34.039Z"
   },
   {
    "duration": 25,
    "start_time": "2024-07-11T07:39:05.201Z"
   },
   {
    "duration": 258092,
    "start_time": "2024-07-11T07:40:00.000Z"
   },
   {
    "duration": 2486,
    "start_time": "2024-07-11T08:44:24.471Z"
   },
   {
    "duration": 5,
    "start_time": "2024-07-11T08:44:26.959Z"
   },
   {
    "duration": 88,
    "start_time": "2024-07-11T08:44:26.965Z"
   },
   {
    "duration": 30,
    "start_time": "2024-07-11T08:44:27.054Z"
   },
   {
    "duration": 9,
    "start_time": "2024-07-11T08:44:27.087Z"
   },
   {
    "duration": 55,
    "start_time": "2024-07-11T08:44:27.097Z"
   },
   {
    "duration": 11,
    "start_time": "2024-07-11T08:44:27.153Z"
   },
   {
    "duration": 15,
    "start_time": "2024-07-11T08:44:27.165Z"
   },
   {
    "duration": 28,
    "start_time": "2024-07-11T08:44:27.181Z"
   },
   {
    "duration": 14,
    "start_time": "2024-07-11T08:44:27.211Z"
   },
   {
    "duration": 6,
    "start_time": "2024-07-11T08:44:27.227Z"
   },
   {
    "duration": 11,
    "start_time": "2024-07-11T08:44:27.234Z"
   },
   {
    "duration": 9,
    "start_time": "2024-07-11T08:44:27.247Z"
   },
   {
    "duration": 189,
    "start_time": "2024-07-11T08:44:27.258Z"
   },
   {
    "duration": 7,
    "start_time": "2024-07-11T08:44:27.449Z"
   },
   {
    "duration": 204,
    "start_time": "2024-07-11T08:44:27.457Z"
   },
   {
    "duration": 5,
    "start_time": "2024-07-11T08:44:27.663Z"
   },
   {
    "duration": 11,
    "start_time": "2024-07-11T08:44:27.670Z"
   },
   {
    "duration": 6,
    "start_time": "2024-07-11T08:44:27.682Z"
   },
   {
    "duration": 6,
    "start_time": "2024-07-11T08:44:27.706Z"
   },
   {
    "duration": 16,
    "start_time": "2024-07-11T08:44:27.713Z"
   },
   {
    "duration": 1942,
    "start_time": "2024-07-11T08:44:27.730Z"
   },
   {
    "duration": 10,
    "start_time": "2024-07-11T08:44:29.673Z"
   },
   {
    "duration": 15,
    "start_time": "2024-07-11T08:44:29.685Z"
   },
   {
    "duration": 6,
    "start_time": "2024-07-11T08:44:29.704Z"
   },
   {
    "duration": 45,
    "start_time": "2024-07-11T08:44:29.711Z"
   },
   {
    "duration": 19,
    "start_time": "2024-07-11T08:44:29.758Z"
   },
   {
    "duration": 328,
    "start_time": "2024-07-11T08:44:29.779Z"
   },
   {
    "duration": 95,
    "start_time": "2024-07-11T08:44:30.109Z"
   },
   {
    "duration": 89,
    "start_time": "2024-07-11T08:44:30.206Z"
   },
   {
    "duration": 89,
    "start_time": "2024-07-11T08:44:30.297Z"
   },
   {
    "duration": 1142,
    "start_time": "2024-07-11T08:44:30.387Z"
   },
   {
    "duration": 64,
    "start_time": "2024-07-11T08:45:05.974Z"
   },
   {
    "duration": 11,
    "start_time": "2024-07-11T08:45:08.929Z"
   },
   {
    "duration": 16,
    "start_time": "2024-07-11T08:45:15.993Z"
   },
   {
    "duration": 16,
    "start_time": "2024-07-11T08:45:53.521Z"
   },
   {
    "duration": 11,
    "start_time": "2024-07-11T08:46:02.046Z"
   },
   {
    "duration": 4,
    "start_time": "2024-07-11T08:46:05.401Z"
   },
   {
    "duration": 14,
    "start_time": "2024-07-11T08:46:17.647Z"
   },
   {
    "duration": 5,
    "start_time": "2024-07-11T08:46:44.624Z"
   },
   {
    "duration": 6,
    "start_time": "2024-07-11T08:46:50.946Z"
   },
   {
    "duration": 12,
    "start_time": "2024-07-11T08:48:23.390Z"
   },
   {
    "duration": 22,
    "start_time": "2024-07-11T08:48:49.553Z"
   },
   {
    "duration": 21,
    "start_time": "2024-07-11T08:50:47.275Z"
   },
   {
    "duration": 261,
    "start_time": "2024-07-11T08:50:59.241Z"
   },
   {
    "duration": 37,
    "start_time": "2024-07-11T08:51:37.903Z"
   },
   {
    "duration": 5,
    "start_time": "2024-07-11T08:52:03.825Z"
   },
   {
    "duration": 37,
    "start_time": "2024-07-11T08:52:07.731Z"
   },
   {
    "duration": 5,
    "start_time": "2024-07-11T08:52:22.803Z"
   },
   {
    "duration": 5,
    "start_time": "2024-07-11T08:52:54.308Z"
   },
   {
    "duration": 4,
    "start_time": "2024-07-11T08:52:58.408Z"
   },
   {
    "duration": 68,
    "start_time": "2024-07-11T08:53:08.034Z"
   },
   {
    "duration": 5,
    "start_time": "2024-07-11T08:53:10.984Z"
   },
   {
    "duration": 166,
    "start_time": "2024-07-11T08:53:26.531Z"
   },
   {
    "duration": 792,
    "start_time": "2024-07-11T08:54:05.257Z"
   },
   {
    "duration": 32,
    "start_time": "2024-07-11T08:54:55.450Z"
   },
   {
    "duration": 905,
    "start_time": "2024-07-11T08:57:35.644Z"
   },
   {
    "duration": 3746,
    "start_time": "2024-07-11T11:21:39.925Z"
   },
   {
    "duration": 1955,
    "start_time": "2024-07-11T11:21:43.673Z"
   },
   {
    "duration": 330,
    "start_time": "2024-07-11T11:21:45.630Z"
   },
   {
    "duration": 29,
    "start_time": "2024-07-11T11:21:45.962Z"
   },
   {
    "duration": 9,
    "start_time": "2024-07-11T11:21:45.993Z"
   },
   {
    "duration": 15,
    "start_time": "2024-07-11T11:21:46.003Z"
   },
   {
    "duration": 7,
    "start_time": "2024-07-11T11:21:46.019Z"
   },
   {
    "duration": 24,
    "start_time": "2024-07-11T11:21:46.028Z"
   },
   {
    "duration": 28,
    "start_time": "2024-07-11T11:21:46.054Z"
   },
   {
    "duration": 12,
    "start_time": "2024-07-11T11:21:46.084Z"
   },
   {
    "duration": 5,
    "start_time": "2024-07-11T11:21:46.098Z"
   },
   {
    "duration": 9,
    "start_time": "2024-07-11T11:21:46.105Z"
   },
   {
    "duration": 6,
    "start_time": "2024-07-11T11:21:46.116Z"
   },
   {
    "duration": 198,
    "start_time": "2024-07-11T11:21:46.125Z"
   },
   {
    "duration": 7,
    "start_time": "2024-07-11T11:21:46.324Z"
   },
   {
    "duration": 204,
    "start_time": "2024-07-11T11:21:46.332Z"
   },
   {
    "duration": 5,
    "start_time": "2024-07-11T11:21:46.537Z"
   },
   {
    "duration": 7,
    "start_time": "2024-07-11T11:21:46.544Z"
   },
   {
    "duration": 7,
    "start_time": "2024-07-11T11:21:46.552Z"
   },
   {
    "duration": 21,
    "start_time": "2024-07-11T11:21:46.561Z"
   },
   {
    "duration": 5,
    "start_time": "2024-07-11T11:21:46.584Z"
   },
   {
    "duration": 1700,
    "start_time": "2024-07-11T11:21:46.591Z"
   },
   {
    "duration": 9,
    "start_time": "2024-07-11T11:21:48.293Z"
   },
   {
    "duration": 15,
    "start_time": "2024-07-11T11:21:48.305Z"
   },
   {
    "duration": 8,
    "start_time": "2024-07-11T11:21:48.321Z"
   },
   {
    "duration": 52,
    "start_time": "2024-07-11T11:21:48.331Z"
   },
   {
    "duration": 17,
    "start_time": "2024-07-11T11:21:48.384Z"
   },
   {
    "duration": 281,
    "start_time": "2024-07-11T11:21:48.402Z"
   },
   {
    "duration": 5,
    "start_time": "2024-07-11T11:21:48.685Z"
   },
   {
    "duration": 96,
    "start_time": "2024-07-11T11:21:48.692Z"
   },
   {
    "duration": 4,
    "start_time": "2024-07-11T11:21:48.790Z"
   },
   {
    "duration": 1022,
    "start_time": "2024-07-11T11:21:48.796Z"
   },
   {
    "duration": 5,
    "start_time": "2024-07-11T11:21:49.820Z"
   },
   {
    "duration": 34,
    "start_time": "2024-07-11T11:21:49.827Z"
   },
   {
    "duration": 50,
    "start_time": "2024-07-11T11:21:49.862Z"
   },
   {
    "duration": 128,
    "start_time": "2024-07-11T11:21:49.913Z"
   },
   {
    "duration": 0,
    "start_time": "2024-07-11T11:21:50.043Z"
   },
   {
    "duration": 0,
    "start_time": "2024-07-11T11:21:50.044Z"
   },
   {
    "duration": 1067,
    "start_time": "2024-07-11T11:48:23.901Z"
   },
   {
    "duration": 2367,
    "start_time": "2024-07-11T12:14:19.786Z"
   },
   {
    "duration": 4,
    "start_time": "2024-07-11T12:14:22.155Z"
   },
   {
    "duration": 99,
    "start_time": "2024-07-11T12:14:22.160Z"
   },
   {
    "duration": 26,
    "start_time": "2024-07-11T12:14:22.260Z"
   },
   {
    "duration": 45,
    "start_time": "2024-07-11T12:14:22.288Z"
   },
   {
    "duration": 11,
    "start_time": "2024-07-11T12:14:22.334Z"
   },
   {
    "duration": 19,
    "start_time": "2024-07-11T12:14:22.346Z"
   },
   {
    "duration": 7,
    "start_time": "2024-07-11T12:14:22.366Z"
   },
   {
    "duration": 32,
    "start_time": "2024-07-11T12:14:22.374Z"
   },
   {
    "duration": 4,
    "start_time": "2024-07-11T12:14:48.602Z"
   },
   {
    "duration": 11,
    "start_time": "2024-07-11T12:14:53.702Z"
   },
   {
    "duration": 2259,
    "start_time": "2024-07-11T12:15:10.715Z"
   },
   {
    "duration": 5,
    "start_time": "2024-07-11T12:15:12.977Z"
   },
   {
    "duration": 87,
    "start_time": "2024-07-11T12:15:12.983Z"
   },
   {
    "duration": 32,
    "start_time": "2024-07-11T12:15:13.071Z"
   },
   {
    "duration": 10,
    "start_time": "2024-07-11T12:15:13.105Z"
   },
   {
    "duration": 14,
    "start_time": "2024-07-11T12:15:13.116Z"
   },
   {
    "duration": 10,
    "start_time": "2024-07-11T12:15:13.131Z"
   },
   {
    "duration": 10,
    "start_time": "2024-07-11T12:15:13.142Z"
   },
   {
    "duration": 30,
    "start_time": "2024-07-11T12:15:13.153Z"
   },
   {
    "duration": 16,
    "start_time": "2024-07-11T12:15:21.450Z"
   },
   {
    "duration": 13,
    "start_time": "2024-07-11T12:15:28.016Z"
   },
   {
    "duration": 2444,
    "start_time": "2024-07-11T12:15:38.414Z"
   },
   {
    "duration": 5,
    "start_time": "2024-07-11T12:15:40.860Z"
   },
   {
    "duration": 85,
    "start_time": "2024-07-11T12:15:40.867Z"
   },
   {
    "duration": 27,
    "start_time": "2024-07-11T12:15:40.954Z"
   },
   {
    "duration": 15,
    "start_time": "2024-07-11T12:15:40.983Z"
   },
   {
    "duration": 12,
    "start_time": "2024-07-11T12:15:40.999Z"
   },
   {
    "duration": 16,
    "start_time": "2024-07-11T12:15:41.013Z"
   },
   {
    "duration": 14,
    "start_time": "2024-07-11T12:15:41.031Z"
   },
   {
    "duration": 13,
    "start_time": "2024-07-11T12:15:41.047Z"
   },
   {
    "duration": 3,
    "start_time": "2024-07-11T12:15:49.950Z"
   },
   {
    "duration": 26,
    "start_time": "2024-07-11T12:21:06.434Z"
   },
   {
    "duration": 18,
    "start_time": "2024-07-11T12:22:37.421Z"
   },
   {
    "duration": 12,
    "start_time": "2024-07-11T12:22:46.741Z"
   },
   {
    "duration": 19,
    "start_time": "2024-07-11T12:25:25.289Z"
   },
   {
    "duration": 16,
    "start_time": "2024-07-11T12:26:25.119Z"
   },
   {
    "duration": 14,
    "start_time": "2024-07-11T12:26:32.784Z"
   },
   {
    "duration": 2264,
    "start_time": "2024-07-11T12:26:55.705Z"
   },
   {
    "duration": 4,
    "start_time": "2024-07-11T12:26:57.972Z"
   },
   {
    "duration": 84,
    "start_time": "2024-07-11T12:26:57.977Z"
   },
   {
    "duration": 31,
    "start_time": "2024-07-11T12:26:58.062Z"
   },
   {
    "duration": 12,
    "start_time": "2024-07-11T12:26:58.095Z"
   },
   {
    "duration": 13,
    "start_time": "2024-07-11T12:26:58.109Z"
   },
   {
    "duration": 11,
    "start_time": "2024-07-11T12:26:58.123Z"
   },
   {
    "duration": 5,
    "start_time": "2024-07-11T12:26:58.135Z"
   },
   {
    "duration": 10,
    "start_time": "2024-07-11T12:26:58.141Z"
   },
   {
    "duration": 3,
    "start_time": "2024-07-11T12:26:58.153Z"
   },
   {
    "duration": 8,
    "start_time": "2024-07-11T12:58:02.601Z"
   },
   {
    "duration": 12,
    "start_time": "2024-07-11T12:58:08.379Z"
   },
   {
    "duration": 9,
    "start_time": "2024-07-11T12:58:23.849Z"
   },
   {
    "duration": 14,
    "start_time": "2024-07-11T12:58:26.760Z"
   },
   {
    "duration": 4,
    "start_time": "2024-07-11T13:43:54.820Z"
   },
   {
    "duration": 8,
    "start_time": "2024-07-11T13:45:15.269Z"
   },
   {
    "duration": 4,
    "start_time": "2024-07-11T13:46:54.610Z"
   },
   {
    "duration": 76,
    "start_time": "2024-07-11T13:47:32.322Z"
   },
   {
    "duration": 6,
    "start_time": "2024-07-11T13:48:51.885Z"
   },
   {
    "duration": 32,
    "start_time": "2024-07-11T13:51:10.014Z"
   },
   {
    "duration": 9,
    "start_time": "2024-07-11T13:51:13.290Z"
   },
   {
    "duration": 4,
    "start_time": "2024-07-11T14:44:09.647Z"
   },
   {
    "duration": 19,
    "start_time": "2024-07-11T14:45:12.266Z"
   },
   {
    "duration": 2349,
    "start_time": "2024-07-11T14:45:21.781Z"
   },
   {
    "duration": 5,
    "start_time": "2024-07-11T14:45:24.132Z"
   },
   {
    "duration": 109,
    "start_time": "2024-07-11T14:45:24.138Z"
   },
   {
    "duration": 12,
    "start_time": "2024-07-11T14:45:24.248Z"
   },
   {
    "duration": 9,
    "start_time": "2024-07-11T14:45:24.262Z"
   },
   {
    "duration": 10,
    "start_time": "2024-07-11T14:45:24.272Z"
   },
   {
    "duration": 7,
    "start_time": "2024-07-11T14:45:24.284Z"
   },
   {
    "duration": 29,
    "start_time": "2024-07-11T14:45:24.292Z"
   },
   {
    "duration": 10,
    "start_time": "2024-07-11T14:45:24.322Z"
   },
   {
    "duration": 5,
    "start_time": "2024-07-11T14:45:24.333Z"
   },
   {
    "duration": 3,
    "start_time": "2024-07-11T14:45:24.339Z"
   },
   {
    "duration": 17,
    "start_time": "2024-07-11T14:45:28.715Z"
   },
   {
    "duration": 11,
    "start_time": "2024-07-11T14:45:46.494Z"
   },
   {
    "duration": 13,
    "start_time": "2024-07-11T14:49:37.158Z"
   },
   {
    "duration": 155,
    "start_time": "2024-07-11T14:50:29.037Z"
   },
   {
    "duration": 116,
    "start_time": "2024-07-11T14:50:43.366Z"
   },
   {
    "duration": 4,
    "start_time": "2024-07-11T14:51:25.358Z"
   },
   {
    "duration": 401,
    "start_time": "2024-07-11T14:51:35.272Z"
   },
   {
    "duration": 69,
    "start_time": "2024-07-11T14:54:00.930Z"
   },
   {
    "duration": 11,
    "start_time": "2024-07-11T14:55:49.704Z"
   },
   {
    "duration": 66,
    "start_time": "2024-07-11T14:55:55.130Z"
   },
   {
    "duration": 12,
    "start_time": "2024-07-11T14:56:01.867Z"
   },
   {
    "duration": 23,
    "start_time": "2024-07-11T14:56:11.921Z"
   },
   {
    "duration": 155,
    "start_time": "2024-07-11T14:56:18.295Z"
   },
   {
    "duration": 145,
    "start_time": "2024-07-11T14:56:34.063Z"
   },
   {
    "duration": 65,
    "start_time": "2024-07-11T14:57:15.544Z"
   },
   {
    "duration": 358,
    "start_time": "2024-07-11T14:57:19.138Z"
   },
   {
    "duration": 10,
    "start_time": "2024-07-11T14:58:29.637Z"
   },
   {
    "duration": 520,
    "start_time": "2024-07-11T15:00:32.261Z"
   },
   {
    "duration": 123,
    "start_time": "2024-07-11T15:01:16.204Z"
   },
   {
    "duration": 16,
    "start_time": "2024-07-11T15:01:22.540Z"
   },
   {
    "duration": 394,
    "start_time": "2024-07-11T15:01:27.849Z"
   },
   {
    "duration": 65,
    "start_time": "2024-07-11T15:01:44.785Z"
   },
   {
    "duration": 11,
    "start_time": "2024-07-11T15:03:17.031Z"
   },
   {
    "duration": 17,
    "start_time": "2024-07-11T15:03:43.933Z"
   },
   {
    "duration": 18,
    "start_time": "2024-07-11T15:04:59.713Z"
   },
   {
    "duration": 399,
    "start_time": "2024-07-11T15:05:17.697Z"
   },
   {
    "duration": 101,
    "start_time": "2024-07-11T15:07:06.371Z"
   },
   {
    "duration": 380,
    "start_time": "2024-07-11T15:08:53.716Z"
   },
   {
    "duration": 494,
    "start_time": "2024-07-11T15:09:10.876Z"
   },
   {
    "duration": 2327,
    "start_time": "2024-07-11T15:09:29.326Z"
   },
   {
    "duration": 5,
    "start_time": "2024-07-11T15:09:31.655Z"
   },
   {
    "duration": 121,
    "start_time": "2024-07-11T15:09:31.661Z"
   },
   {
    "duration": 13,
    "start_time": "2024-07-11T15:09:31.783Z"
   },
   {
    "duration": 40,
    "start_time": "2024-07-11T15:09:31.798Z"
   },
   {
    "duration": 13,
    "start_time": "2024-07-11T15:09:31.839Z"
   },
   {
    "duration": 14,
    "start_time": "2024-07-11T15:09:31.853Z"
   },
   {
    "duration": 53,
    "start_time": "2024-07-11T15:09:31.868Z"
   },
   {
    "duration": 21,
    "start_time": "2024-07-11T15:09:31.923Z"
   },
   {
    "duration": 25,
    "start_time": "2024-07-11T15:09:31.945Z"
   },
   {
    "duration": 6,
    "start_time": "2024-07-11T15:09:31.972Z"
   },
   {
    "duration": 25,
    "start_time": "2024-07-11T15:09:31.979Z"
   },
   {
    "duration": 29,
    "start_time": "2024-07-11T15:09:32.006Z"
   },
   {
    "duration": 14,
    "start_time": "2024-07-11T15:09:32.037Z"
   },
   {
    "duration": 24,
    "start_time": "2024-07-11T15:09:32.052Z"
   },
   {
    "duration": 404,
    "start_time": "2024-07-11T15:10:35.767Z"
   },
   {
    "duration": 256,
    "start_time": "2024-07-11T15:16:23.343Z"
   },
   {
    "duration": 299,
    "start_time": "2024-07-11T15:16:29.995Z"
   },
   {
    "duration": 22,
    "start_time": "2024-07-11T15:16:37.078Z"
   },
   {
    "duration": 272,
    "start_time": "2024-07-11T15:16:43.149Z"
   },
   {
    "duration": 386,
    "start_time": "2024-07-11T15:17:04.551Z"
   },
   {
    "duration": 550,
    "start_time": "2024-07-11T15:18:28.548Z"
   },
   {
    "duration": 5,
    "start_time": "2024-07-11T15:19:08.942Z"
   },
   {
    "duration": 347,
    "start_time": "2024-07-11T15:19:30.086Z"
   },
   {
    "duration": 313,
    "start_time": "2024-07-11T15:20:16.713Z"
   },
   {
    "duration": 530,
    "start_time": "2024-07-11T15:20:20.658Z"
   },
   {
    "duration": 559,
    "start_time": "2024-07-11T15:20:32.646Z"
   },
   {
    "duration": 423,
    "start_time": "2024-07-11T15:21:08.355Z"
   },
   {
    "duration": 411,
    "start_time": "2024-07-11T15:51:24.073Z"
   },
   {
    "duration": 2236,
    "start_time": "2024-07-11T16:04:45.723Z"
   },
   {
    "duration": 18,
    "start_time": "2024-07-11T16:04:47.961Z"
   },
   {
    "duration": 0,
    "start_time": "2024-07-11T16:04:47.980Z"
   },
   {
    "duration": 0,
    "start_time": "2024-07-11T16:04:47.982Z"
   },
   {
    "duration": 0,
    "start_time": "2024-07-11T16:04:47.983Z"
   },
   {
    "duration": 0,
    "start_time": "2024-07-11T16:04:47.984Z"
   },
   {
    "duration": 0,
    "start_time": "2024-07-11T16:04:47.985Z"
   },
   {
    "duration": 0,
    "start_time": "2024-07-11T16:04:47.986Z"
   },
   {
    "duration": 0,
    "start_time": "2024-07-11T16:04:47.987Z"
   },
   {
    "duration": 0,
    "start_time": "2024-07-11T16:04:47.988Z"
   },
   {
    "duration": 0,
    "start_time": "2024-07-11T16:04:47.989Z"
   },
   {
    "duration": 0,
    "start_time": "2024-07-11T16:04:47.990Z"
   },
   {
    "duration": 0,
    "start_time": "2024-07-11T16:04:47.991Z"
   },
   {
    "duration": 0,
    "start_time": "2024-07-11T16:04:47.992Z"
   },
   {
    "duration": 0,
    "start_time": "2024-07-11T16:04:47.993Z"
   },
   {
    "duration": 0,
    "start_time": "2024-07-11T16:04:47.994Z"
   },
   {
    "duration": 0,
    "start_time": "2024-07-11T16:04:47.995Z"
   },
   {
    "duration": 0,
    "start_time": "2024-07-11T16:04:47.996Z"
   },
   {
    "duration": 0,
    "start_time": "2024-07-11T16:04:47.997Z"
   },
   {
    "duration": 2324,
    "start_time": "2024-07-11T16:05:15.506Z"
   },
   {
    "duration": 5,
    "start_time": "2024-07-11T16:05:17.833Z"
   },
   {
    "duration": 100,
    "start_time": "2024-07-11T16:05:17.839Z"
   },
   {
    "duration": 13,
    "start_time": "2024-07-11T16:05:17.940Z"
   },
   {
    "duration": 7,
    "start_time": "2024-07-11T16:05:17.954Z"
   },
   {
    "duration": 6,
    "start_time": "2024-07-11T16:05:17.962Z"
   },
   {
    "duration": 20,
    "start_time": "2024-07-11T16:05:17.969Z"
   },
   {
    "duration": 36,
    "start_time": "2024-07-11T16:05:17.990Z"
   },
   {
    "duration": 8,
    "start_time": "2024-07-11T16:05:18.027Z"
   },
   {
    "duration": 8,
    "start_time": "2024-07-11T16:05:18.037Z"
   },
   {
    "duration": 5,
    "start_time": "2024-07-11T16:05:18.046Z"
   },
   {
    "duration": 35,
    "start_time": "2024-07-11T16:05:18.052Z"
   },
   {
    "duration": 4,
    "start_time": "2024-07-11T16:05:18.089Z"
   },
   {
    "duration": 5,
    "start_time": "2024-07-11T16:05:18.096Z"
   },
   {
    "duration": 437,
    "start_time": "2024-07-11T16:05:18.102Z"
   },
   {
    "duration": 5,
    "start_time": "2024-07-11T16:05:18.540Z"
   },
   {
    "duration": 13,
    "start_time": "2024-07-11T16:05:18.546Z"
   },
   {
    "duration": 7,
    "start_time": "2024-07-11T16:05:18.560Z"
   },
   {
    "duration": 25,
    "start_time": "2024-07-11T16:05:18.568Z"
   },
   {
    "duration": 17,
    "start_time": "2024-07-11T16:05:28.453Z"
   },
   {
    "duration": 1711,
    "start_time": "2024-07-11T16:05:39.594Z"
   },
   {
    "duration": 712,
    "start_time": "2024-07-11T16:07:22.751Z"
   },
   {
    "duration": 6,
    "start_time": "2024-07-11T16:07:33.948Z"
   },
   {
    "duration": 716,
    "start_time": "2024-07-11T16:09:17.171Z"
   },
   {
    "duration": 15,
    "start_time": "2024-07-11T16:10:00.507Z"
   },
   {
    "duration": 3,
    "start_time": "2024-07-11T16:10:42.085Z"
   },
   {
    "duration": 720,
    "start_time": "2024-07-11T16:11:48.866Z"
   },
   {
    "duration": 4,
    "start_time": "2024-07-11T16:12:00.070Z"
   },
   {
    "duration": 5,
    "start_time": "2024-07-11T16:12:32.851Z"
   },
   {
    "duration": 11,
    "start_time": "2024-07-11T16:12:46.195Z"
   },
   {
    "duration": 11,
    "start_time": "2024-07-11T16:13:01.248Z"
   },
   {
    "duration": 5,
    "start_time": "2024-07-11T16:13:07.128Z"
   },
   {
    "duration": 3,
    "start_time": "2024-07-11T16:13:36.741Z"
   },
   {
    "duration": 3,
    "start_time": "2024-07-11T16:13:46.656Z"
   },
   {
    "duration": 4,
    "start_time": "2024-07-11T16:13:54.603Z"
   },
   {
    "duration": 2321,
    "start_time": "2024-07-11T16:14:01.344Z"
   },
   {
    "duration": 5,
    "start_time": "2024-07-11T16:14:03.667Z"
   },
   {
    "duration": 99,
    "start_time": "2024-07-11T16:14:03.673Z"
   },
   {
    "duration": 13,
    "start_time": "2024-07-11T16:14:03.774Z"
   },
   {
    "duration": 13,
    "start_time": "2024-07-11T16:14:03.790Z"
   },
   {
    "duration": 8,
    "start_time": "2024-07-11T16:14:03.804Z"
   },
   {
    "duration": 7,
    "start_time": "2024-07-11T16:14:03.813Z"
   },
   {
    "duration": 29,
    "start_time": "2024-07-11T16:14:03.821Z"
   },
   {
    "duration": 8,
    "start_time": "2024-07-11T16:14:03.852Z"
   },
   {
    "duration": 4,
    "start_time": "2024-07-11T16:14:03.881Z"
   },
   {
    "duration": 4,
    "start_time": "2024-07-11T16:14:03.886Z"
   },
   {
    "duration": 11,
    "start_time": "2024-07-11T16:14:03.891Z"
   },
   {
    "duration": 4,
    "start_time": "2024-07-11T16:14:03.903Z"
   },
   {
    "duration": 3,
    "start_time": "2024-07-11T16:14:03.909Z"
   },
   {
    "duration": 574,
    "start_time": "2024-07-11T16:14:03.914Z"
   },
   {
    "duration": 3,
    "start_time": "2024-07-11T16:14:04.489Z"
   },
   {
    "duration": 11,
    "start_time": "2024-07-11T16:14:04.494Z"
   },
   {
    "duration": 6,
    "start_time": "2024-07-11T16:14:04.506Z"
   },
   {
    "duration": 92,
    "start_time": "2024-07-11T16:14:04.514Z"
   },
   {
    "duration": 1612,
    "start_time": "2024-07-11T16:14:04.607Z"
   },
   {
    "duration": 6,
    "start_time": "2024-07-11T16:14:06.221Z"
   },
   {
    "duration": 4,
    "start_time": "2024-07-11T16:16:24.263Z"
   },
   {
    "duration": 6,
    "start_time": "2024-07-11T16:16:28.418Z"
   },
   {
    "duration": 5,
    "start_time": "2024-07-11T16:16:56.498Z"
   },
   {
    "duration": 5,
    "start_time": "2024-07-11T16:17:52.373Z"
   },
   {
    "duration": 6,
    "start_time": "2024-07-11T16:18:03.231Z"
   },
   {
    "duration": 4,
    "start_time": "2024-07-11T16:18:18.670Z"
   },
   {
    "duration": 3,
    "start_time": "2024-07-11T16:18:37.254Z"
   },
   {
    "duration": 7,
    "start_time": "2024-07-11T16:18:41.740Z"
   },
   {
    "duration": 125,
    "start_time": "2024-07-11T16:19:26.803Z"
   },
   {
    "duration": 7,
    "start_time": "2024-07-11T16:19:40.460Z"
   },
   {
    "duration": 3992,
    "start_time": "2024-07-11T16:19:49.009Z"
   },
   {
    "duration": 12,
    "start_time": "2024-07-11T16:20:53.207Z"
   },
   {
    "duration": 9,
    "start_time": "2024-07-11T16:21:00.928Z"
   },
   {
    "duration": 16,
    "start_time": "2024-07-11T16:23:12.042Z"
   },
   {
    "duration": 4,
    "start_time": "2024-07-11T16:24:31.575Z"
   },
   {
    "duration": 8,
    "start_time": "2024-07-11T16:24:41.910Z"
   },
   {
    "duration": 10,
    "start_time": "2024-07-11T16:25:41.880Z"
   },
   {
    "duration": 3,
    "start_time": "2024-07-11T16:25:52.057Z"
   },
   {
    "duration": 9,
    "start_time": "2024-07-11T16:25:56.258Z"
   },
   {
    "duration": 9,
    "start_time": "2024-07-11T16:26:12.798Z"
   },
   {
    "duration": 6,
    "start_time": "2024-07-11T16:26:26.907Z"
   },
   {
    "duration": 10,
    "start_time": "2024-07-11T16:27:44.057Z"
   },
   {
    "duration": 3,
    "start_time": "2024-07-11T16:27:50.326Z"
   },
   {
    "duration": 6,
    "start_time": "2024-07-11T16:28:04.025Z"
   },
   {
    "duration": 198,
    "start_time": "2024-07-11T16:28:18.920Z"
   },
   {
    "duration": 67,
    "start_time": "2024-07-11T16:28:43.910Z"
   },
   {
    "duration": 4,
    "start_time": "2024-07-11T16:28:48.052Z"
   },
   {
    "duration": 6,
    "start_time": "2024-07-11T16:28:50.669Z"
   },
   {
    "duration": 159,
    "start_time": "2024-07-11T16:28:57.664Z"
   },
   {
    "duration": 2310,
    "start_time": "2024-07-11T16:29:39.347Z"
   },
   {
    "duration": 5,
    "start_time": "2024-07-11T16:29:41.659Z"
   },
   {
    "duration": 151,
    "start_time": "2024-07-11T16:29:41.666Z"
   },
   {
    "duration": 13,
    "start_time": "2024-07-11T16:29:41.819Z"
   },
   {
    "duration": 8,
    "start_time": "2024-07-11T16:29:41.833Z"
   },
   {
    "duration": 6,
    "start_time": "2024-07-11T16:29:41.842Z"
   },
   {
    "duration": 7,
    "start_time": "2024-07-11T16:29:41.849Z"
   },
   {
    "duration": 28,
    "start_time": "2024-07-11T16:29:41.857Z"
   },
   {
    "duration": 4,
    "start_time": "2024-07-11T16:29:41.887Z"
   },
   {
    "duration": 11,
    "start_time": "2024-07-11T16:29:41.893Z"
   },
   {
    "duration": 4,
    "start_time": "2024-07-11T16:29:41.905Z"
   },
   {
    "duration": 4,
    "start_time": "2024-07-11T16:29:41.911Z"
   },
   {
    "duration": 8,
    "start_time": "2024-07-11T16:29:41.916Z"
   },
   {
    "duration": 4,
    "start_time": "2024-07-11T16:29:41.926Z"
   },
   {
    "duration": 6,
    "start_time": "2024-07-11T16:29:41.932Z"
   },
   {
    "duration": 424,
    "start_time": "2024-07-11T16:29:41.939Z"
   },
   {
    "duration": 4,
    "start_time": "2024-07-11T16:29:42.364Z"
   },
   {
    "duration": 14,
    "start_time": "2024-07-11T16:29:42.369Z"
   },
   {
    "duration": 7,
    "start_time": "2024-07-11T16:29:42.385Z"
   },
   {
    "duration": 22,
    "start_time": "2024-07-11T16:29:42.393Z"
   },
   {
    "duration": 1721,
    "start_time": "2024-07-11T16:29:42.416Z"
   },
   {
    "duration": 5,
    "start_time": "2024-07-11T16:29:44.139Z"
   },
   {
    "duration": 26,
    "start_time": "2024-07-11T16:29:44.146Z"
   },
   {
    "duration": 118,
    "start_time": "2024-07-11T16:29:56.946Z"
   },
   {
    "duration": 156,
    "start_time": "2024-07-11T16:30:19.270Z"
   },
   {
    "duration": 166,
    "start_time": "2024-07-11T16:31:12.904Z"
   },
   {
    "duration": 165,
    "start_time": "2024-07-11T16:31:17.635Z"
   },
   {
    "duration": 2278,
    "start_time": "2024-07-11T16:31:54.048Z"
   },
   {
    "duration": 5,
    "start_time": "2024-07-11T16:31:56.328Z"
   },
   {
    "duration": 85,
    "start_time": "2024-07-11T16:31:56.334Z"
   },
   {
    "duration": 12,
    "start_time": "2024-07-11T16:31:56.421Z"
   },
   {
    "duration": 7,
    "start_time": "2024-07-11T16:31:56.434Z"
   },
   {
    "duration": 6,
    "start_time": "2024-07-11T16:31:56.442Z"
   },
   {
    "duration": 9,
    "start_time": "2024-07-11T16:31:56.449Z"
   },
   {
    "duration": 25,
    "start_time": "2024-07-11T16:31:56.459Z"
   },
   {
    "duration": 3,
    "start_time": "2024-07-11T16:31:56.485Z"
   },
   {
    "duration": 10,
    "start_time": "2024-07-11T16:31:56.489Z"
   },
   {
    "duration": 4,
    "start_time": "2024-07-11T16:31:56.500Z"
   },
   {
    "duration": 4,
    "start_time": "2024-07-11T16:31:56.505Z"
   },
   {
    "duration": 7,
    "start_time": "2024-07-11T16:31:56.511Z"
   },
   {
    "duration": 8,
    "start_time": "2024-07-11T16:31:56.521Z"
   },
   {
    "duration": 6,
    "start_time": "2024-07-11T16:31:56.530Z"
   },
   {
    "duration": 623,
    "start_time": "2024-07-11T16:31:56.537Z"
   },
   {
    "duration": 3,
    "start_time": "2024-07-11T16:31:57.161Z"
   },
   {
    "duration": 24,
    "start_time": "2024-07-11T16:31:57.166Z"
   },
   {
    "duration": 34,
    "start_time": "2024-07-11T16:31:57.192Z"
   },
   {
    "duration": 15,
    "start_time": "2024-07-11T16:31:57.227Z"
   },
   {
    "duration": 1753,
    "start_time": "2024-07-11T16:31:57.243Z"
   },
   {
    "duration": 6,
    "start_time": "2024-07-11T16:31:58.997Z"
   },
   {
    "duration": 3,
    "start_time": "2024-07-11T16:31:59.005Z"
   },
   {
    "duration": 178,
    "start_time": "2024-07-11T16:31:59.009Z"
   },
   {
    "duration": 39,
    "start_time": "2024-07-11T16:31:59.188Z"
   },
   {
    "duration": 17,
    "start_time": "2024-07-11T16:31:59.229Z"
   },
   {
    "duration": 243,
    "start_time": "2024-07-11T16:31:59.247Z"
   },
   {
    "duration": 9,
    "start_time": "2024-07-11T16:31:59.582Z"
   },
   {
    "duration": 74,
    "start_time": "2024-07-11T16:31:59.682Z"
   },
   {
    "duration": 6,
    "start_time": "2024-07-11T16:31:59.757Z"
   },
   {
    "duration": 20,
    "start_time": "2024-07-11T16:31:59.764Z"
   },
   {
    "duration": 0,
    "start_time": "2024-07-11T16:31:59.785Z"
   },
   {
    "duration": 0,
    "start_time": "2024-07-11T16:31:59.786Z"
   },
   {
    "duration": 0,
    "start_time": "2024-07-11T16:31:59.787Z"
   },
   {
    "duration": 0,
    "start_time": "2024-07-11T16:31:59.787Z"
   },
   {
    "duration": 984,
    "start_time": "2024-07-11T16:42:48.236Z"
   },
   {
    "duration": 3,
    "start_time": "2024-07-11T16:43:00.699Z"
   },
   {
    "duration": 65,
    "start_time": "2024-07-11T16:43:02.465Z"
   },
   {
    "duration": 824,
    "start_time": "2024-07-11T16:43:13.627Z"
   },
   {
    "duration": 4489,
    "start_time": "2024-07-12T05:46:01.146Z"
   },
   {
    "duration": 2203,
    "start_time": "2024-07-12T05:46:05.638Z"
   },
   {
    "duration": 256,
    "start_time": "2024-07-12T05:46:07.843Z"
   },
   {
    "duration": 20,
    "start_time": "2024-07-12T05:46:08.102Z"
   },
   {
    "duration": 7,
    "start_time": "2024-07-12T05:46:08.124Z"
   },
   {
    "duration": 15,
    "start_time": "2024-07-12T05:46:08.133Z"
   },
   {
    "duration": 45,
    "start_time": "2024-07-12T05:46:08.149Z"
   },
   {
    "duration": 45,
    "start_time": "2024-07-12T05:46:08.196Z"
   },
   {
    "duration": 7,
    "start_time": "2024-07-12T05:46:08.242Z"
   },
   {
    "duration": 10,
    "start_time": "2024-07-12T05:46:08.252Z"
   },
   {
    "duration": 19,
    "start_time": "2024-07-12T05:46:08.264Z"
   },
   {
    "duration": 5,
    "start_time": "2024-07-12T05:46:08.285Z"
   },
   {
    "duration": 53,
    "start_time": "2024-07-12T05:46:08.292Z"
   },
   {
    "duration": 9,
    "start_time": "2024-07-12T05:46:08.347Z"
   },
   {
    "duration": 11,
    "start_time": "2024-07-12T05:46:08.357Z"
   },
   {
    "duration": 487,
    "start_time": "2024-07-12T05:46:08.370Z"
   },
   {
    "duration": 8,
    "start_time": "2024-07-12T05:46:08.858Z"
   },
   {
    "duration": 12,
    "start_time": "2024-07-12T05:46:08.868Z"
   },
   {
    "duration": 9,
    "start_time": "2024-07-12T05:46:08.883Z"
   },
   {
    "duration": 20,
    "start_time": "2024-07-12T05:46:08.894Z"
   },
   {
    "duration": 2058,
    "start_time": "2024-07-12T05:46:08.916Z"
   },
   {
    "duration": 7,
    "start_time": "2024-07-12T05:46:10.975Z"
   },
   {
    "duration": 10,
    "start_time": "2024-07-12T05:46:10.984Z"
   },
   {
    "duration": 191,
    "start_time": "2024-07-12T05:46:10.996Z"
   },
   {
    "duration": 43,
    "start_time": "2024-07-12T05:46:11.188Z"
   },
   {
    "duration": 45,
    "start_time": "2024-07-12T05:46:11.232Z"
   },
   {
    "duration": 286,
    "start_time": "2024-07-12T05:46:11.279Z"
   },
   {
    "duration": 8,
    "start_time": "2024-07-12T05:46:11.570Z"
   },
   {
    "duration": 87,
    "start_time": "2024-07-12T05:46:11.580Z"
   },
   {
    "duration": 12,
    "start_time": "2024-07-12T05:46:11.669Z"
   },
   {
    "duration": 1161,
    "start_time": "2024-07-12T05:46:11.683Z"
   },
   {
    "duration": 77,
    "start_time": "2024-07-12T05:46:12.846Z"
   },
   {
    "duration": 1001,
    "start_time": "2024-07-12T05:46:12.925Z"
   },
   {
    "duration": 5,
    "start_time": "2024-07-12T05:50:30.659Z"
   },
   {
    "duration": 138,
    "start_time": "2024-07-12T05:51:13.938Z"
   },
   {
    "duration": 4,
    "start_time": "2024-07-12T05:51:25.562Z"
   },
   {
    "duration": 15,
    "start_time": "2024-07-12T05:52:39.579Z"
   },
   {
    "duration": 19,
    "start_time": "2024-07-12T05:53:29.648Z"
   },
   {
    "duration": 69,
    "start_time": "2024-07-12T05:54:00.915Z"
   },
   {
    "duration": 2525,
    "start_time": "2024-07-12T05:54:33.226Z"
   },
   {
    "duration": 5,
    "start_time": "2024-07-12T05:54:35.754Z"
   },
   {
    "duration": 97,
    "start_time": "2024-07-12T05:54:35.761Z"
   },
   {
    "duration": 13,
    "start_time": "2024-07-12T05:54:35.860Z"
   },
   {
    "duration": 23,
    "start_time": "2024-07-12T05:54:35.875Z"
   },
   {
    "duration": 8,
    "start_time": "2024-07-12T05:54:35.900Z"
   },
   {
    "duration": 9,
    "start_time": "2024-07-12T05:54:35.910Z"
   },
   {
    "duration": 44,
    "start_time": "2024-07-12T05:54:35.921Z"
   },
   {
    "duration": 4,
    "start_time": "2024-07-12T05:54:35.967Z"
   },
   {
    "duration": 34,
    "start_time": "2024-07-12T05:54:35.972Z"
   },
   {
    "duration": 10,
    "start_time": "2024-07-12T05:54:36.008Z"
   },
   {
    "duration": 4,
    "start_time": "2024-07-12T05:54:36.020Z"
   },
   {
    "duration": 20,
    "start_time": "2024-07-12T05:54:36.026Z"
   },
   {
    "duration": 15,
    "start_time": "2024-07-12T05:54:36.049Z"
   },
   {
    "duration": 16,
    "start_time": "2024-07-12T05:54:36.066Z"
   },
   {
    "duration": 431,
    "start_time": "2024-07-12T05:54:36.084Z"
   },
   {
    "duration": 4,
    "start_time": "2024-07-12T05:54:36.516Z"
   },
   {
    "duration": 24,
    "start_time": "2024-07-12T05:54:36.521Z"
   },
   {
    "duration": 8,
    "start_time": "2024-07-12T05:54:36.547Z"
   },
   {
    "duration": 25,
    "start_time": "2024-07-12T05:54:36.556Z"
   },
   {
    "duration": 1933,
    "start_time": "2024-07-12T05:54:36.583Z"
   },
   {
    "duration": 6,
    "start_time": "2024-07-12T05:54:38.518Z"
   },
   {
    "duration": 9,
    "start_time": "2024-07-12T05:54:38.526Z"
   },
   {
    "duration": 190,
    "start_time": "2024-07-12T05:54:38.536Z"
   },
   {
    "duration": 54,
    "start_time": "2024-07-12T05:54:38.727Z"
   },
   {
    "duration": 18,
    "start_time": "2024-07-12T05:54:38.782Z"
   },
   {
    "duration": 276,
    "start_time": "2024-07-12T05:54:38.801Z"
   },
   {
    "duration": 6,
    "start_time": "2024-07-12T05:54:39.165Z"
   },
   {
    "duration": 95,
    "start_time": "2024-07-12T05:54:39.173Z"
   },
   {
    "duration": 95,
    "start_time": "2024-07-12T05:54:39.270Z"
   },
   {
    "duration": 1093,
    "start_time": "2024-07-12T05:54:39.366Z"
   },
   {
    "duration": 72,
    "start_time": "2024-07-12T05:54:40.461Z"
   },
   {
    "duration": 1226,
    "start_time": "2024-07-12T05:54:40.534Z"
   },
   {
    "duration": 19,
    "start_time": "2024-07-12T06:04:14.252Z"
   },
   {
    "duration": 14,
    "start_time": "2024-07-12T06:06:26.115Z"
   },
   {
    "duration": 20,
    "start_time": "2024-07-12T06:06:37.395Z"
   },
   {
    "duration": 11,
    "start_time": "2024-07-12T06:06:49.302Z"
   },
   {
    "duration": 18,
    "start_time": "2024-07-12T06:06:56.868Z"
   },
   {
    "duration": 10,
    "start_time": "2024-07-12T06:07:06.513Z"
   },
   {
    "duration": 4,
    "start_time": "2024-07-12T06:07:09.515Z"
   },
   {
    "duration": 121,
    "start_time": "2024-07-12T06:08:12.817Z"
   },
   {
    "duration": 128,
    "start_time": "2024-07-12T06:08:36.180Z"
   },
   {
    "duration": 12,
    "start_time": "2024-07-12T06:09:40.437Z"
   },
   {
    "duration": 130,
    "start_time": "2024-07-12T06:10:15.567Z"
   },
   {
    "duration": 25,
    "start_time": "2024-07-12T06:10:29.955Z"
   },
   {
    "duration": 6,
    "start_time": "2024-07-12T06:10:57.381Z"
   },
   {
    "duration": 4,
    "start_time": "2024-07-12T06:11:37.381Z"
   },
   {
    "duration": 4,
    "start_time": "2024-07-12T06:11:44.327Z"
   },
   {
    "duration": 37,
    "start_time": "2024-07-12T06:11:46.567Z"
   },
   {
    "duration": 129,
    "start_time": "2024-07-12T06:12:17.249Z"
   },
   {
    "duration": 50,
    "start_time": "2024-07-12T09:41:06.630Z"
   },
   {
    "duration": 4397,
    "start_time": "2024-07-12T09:41:13.563Z"
   },
   {
    "duration": 2155,
    "start_time": "2024-07-12T09:41:17.962Z"
   },
   {
    "duration": 273,
    "start_time": "2024-07-12T09:41:20.119Z"
   },
   {
    "duration": 17,
    "start_time": "2024-07-12T09:41:20.394Z"
   },
   {
    "duration": 55,
    "start_time": "2024-07-12T09:41:20.413Z"
   },
   {
    "duration": 7,
    "start_time": "2024-07-12T09:41:20.470Z"
   },
   {
    "duration": 14,
    "start_time": "2024-07-12T09:41:20.479Z"
   },
   {
    "duration": 33,
    "start_time": "2024-07-12T09:41:20.494Z"
   },
   {
    "duration": 9,
    "start_time": "2024-07-12T09:41:20.529Z"
   },
   {
    "duration": 33,
    "start_time": "2024-07-12T09:41:20.539Z"
   },
   {
    "duration": 14,
    "start_time": "2024-07-12T09:41:20.574Z"
   },
   {
    "duration": 9,
    "start_time": "2024-07-12T09:41:20.589Z"
   },
   {
    "duration": 16,
    "start_time": "2024-07-12T09:41:20.599Z"
   },
   {
    "duration": 6,
    "start_time": "2024-07-12T09:41:20.618Z"
   },
   {
    "duration": 9,
    "start_time": "2024-07-12T09:41:20.625Z"
   },
   {
    "duration": 481,
    "start_time": "2024-07-12T09:41:20.635Z"
   },
   {
    "duration": 4,
    "start_time": "2024-07-12T09:41:21.117Z"
   },
   {
    "duration": 13,
    "start_time": "2024-07-12T09:41:21.122Z"
   },
   {
    "duration": 17,
    "start_time": "2024-07-12T09:41:21.136Z"
   },
   {
    "duration": 12,
    "start_time": "2024-07-12T09:41:21.154Z"
   },
   {
    "duration": 29,
    "start_time": "2024-07-12T09:41:21.168Z"
   },
   {
    "duration": 2102,
    "start_time": "2024-07-12T09:41:21.199Z"
   },
   {
    "duration": 7,
    "start_time": "2024-07-12T09:41:23.302Z"
   },
   {
    "duration": 8,
    "start_time": "2024-07-12T09:41:23.311Z"
   },
   {
    "duration": 198,
    "start_time": "2024-07-12T09:41:23.320Z"
   },
   {
    "duration": 45,
    "start_time": "2024-07-12T09:41:23.519Z"
   },
   {
    "duration": 19,
    "start_time": "2024-07-12T09:41:23.566Z"
   },
   {
    "duration": 309,
    "start_time": "2024-07-12T09:41:23.604Z"
   },
   {
    "duration": 92,
    "start_time": "2024-07-12T09:41:23.915Z"
   },
   {
    "duration": 4,
    "start_time": "2024-07-12T09:41:24.009Z"
   },
   {
    "duration": 4,
    "start_time": "2024-07-12T09:41:24.015Z"
   },
   {
    "duration": 1218,
    "start_time": "2024-07-12T09:41:24.021Z"
   },
   {
    "duration": 77,
    "start_time": "2024-07-12T09:41:25.240Z"
   },
   {
    "duration": 1164,
    "start_time": "2024-07-12T09:41:25.319Z"
   },
   {
    "duration": 10,
    "start_time": "2024-07-12T09:41:26.485Z"
   },
   {
    "duration": 11,
    "start_time": "2024-07-12T09:41:26.504Z"
   },
   {
    "duration": 17,
    "start_time": "2024-07-12T09:41:26.517Z"
   },
   {
    "duration": 182,
    "start_time": "2024-07-12T09:41:45.818Z"
   },
   {
    "duration": 949,
    "start_time": "2024-07-12T10:02:19.845Z"
   },
   {
    "duration": 229,
    "start_time": "2024-07-12T10:04:10.547Z"
   },
   {
    "duration": 247,
    "start_time": "2024-07-12T10:05:35.136Z"
   },
   {
    "duration": 358,
    "start_time": "2024-07-12T10:05:50.387Z"
   },
   {
    "duration": 375,
    "start_time": "2024-07-12T10:06:52.065Z"
   },
   {
    "duration": 341,
    "start_time": "2024-07-12T10:10:05.245Z"
   },
   {
    "duration": 3444,
    "start_time": "2024-07-12T10:48:03.086Z"
   },
   {
    "duration": 6,
    "start_time": "2024-07-12T10:48:06.532Z"
   },
   {
    "duration": 113,
    "start_time": "2024-07-12T10:48:06.539Z"
   },
   {
    "duration": 14,
    "start_time": "2024-07-12T10:48:06.654Z"
   },
   {
    "duration": 13,
    "start_time": "2024-07-12T10:48:06.670Z"
   },
   {
    "duration": 8,
    "start_time": "2024-07-12T10:48:06.684Z"
   },
   {
    "duration": 82,
    "start_time": "2024-07-12T10:48:06.693Z"
   },
   {
    "duration": 37,
    "start_time": "2024-07-12T10:48:06.777Z"
   },
   {
    "duration": 6,
    "start_time": "2024-07-12T10:48:06.816Z"
   },
   {
    "duration": 18,
    "start_time": "2024-07-12T10:48:06.824Z"
   },
   {
    "duration": 5,
    "start_time": "2024-07-12T10:48:06.843Z"
   },
   {
    "duration": 9,
    "start_time": "2024-07-12T10:48:06.850Z"
   },
   {
    "duration": 14,
    "start_time": "2024-07-12T10:48:06.861Z"
   },
   {
    "duration": 27,
    "start_time": "2024-07-12T10:48:06.878Z"
   },
   {
    "duration": 4,
    "start_time": "2024-07-12T10:48:06.907Z"
   },
   {
    "duration": 538,
    "start_time": "2024-07-12T10:48:06.913Z"
   },
   {
    "duration": 4,
    "start_time": "2024-07-12T10:48:07.452Z"
   },
   {
    "duration": 6,
    "start_time": "2024-07-12T10:48:07.457Z"
   },
   {
    "duration": 21,
    "start_time": "2024-07-12T10:48:07.465Z"
   },
   {
    "duration": 19,
    "start_time": "2024-07-12T10:48:07.488Z"
   },
   {
    "duration": 16,
    "start_time": "2024-07-12T10:48:07.509Z"
   },
   {
    "duration": 1770,
    "start_time": "2024-07-12T10:48:07.526Z"
   },
   {
    "duration": 11,
    "start_time": "2024-07-12T10:48:09.298Z"
   },
   {
    "duration": 5,
    "start_time": "2024-07-12T10:48:09.311Z"
   },
   {
    "duration": 1402,
    "start_time": "2024-07-12T10:48:09.317Z"
   },
   {
    "duration": 40,
    "start_time": "2024-07-12T10:48:10.721Z"
   },
   {
    "duration": 37,
    "start_time": "2024-07-12T10:48:10.762Z"
   },
   {
    "duration": 413,
    "start_time": "2024-07-12T10:48:10.800Z"
   },
   {
    "duration": 93,
    "start_time": "2024-07-12T10:48:11.215Z"
   },
   {
    "duration": 96,
    "start_time": "2024-07-12T10:48:11.310Z"
   },
   {
    "duration": 3,
    "start_time": "2024-07-12T10:48:11.408Z"
   },
   {
    "duration": 1120,
    "start_time": "2024-07-12T10:48:11.412Z"
   },
   {
    "duration": 35,
    "start_time": "2024-07-12T10:48:12.533Z"
   },
   {
    "duration": 988,
    "start_time": "2024-07-12T10:48:12.569Z"
   },
   {
    "duration": 16,
    "start_time": "2024-07-12T10:50:47.239Z"
   },
   {
    "duration": 11,
    "start_time": "2024-07-12T11:09:33.586Z"
   },
   {
    "duration": 40,
    "start_time": "2024-07-12T11:09:58.876Z"
   },
   {
    "duration": 4,
    "start_time": "2024-07-12T11:10:15.461Z"
   },
   {
    "duration": 170,
    "start_time": "2024-07-12T11:10:19.167Z"
   },
   {
    "duration": 6,
    "start_time": "2024-07-12T11:11:27.993Z"
   },
   {
    "duration": 189,
    "start_time": "2024-07-12T11:11:46.975Z"
   },
   {
    "duration": 6,
    "start_time": "2024-07-12T12:36:58.655Z"
   },
   {
    "duration": 6,
    "start_time": "2024-07-12T12:37:41.394Z"
   },
   {
    "duration": 5,
    "start_time": "2024-07-12T12:37:46.439Z"
   },
   {
    "duration": 6,
    "start_time": "2024-07-12T12:37:52.318Z"
   },
   {
    "duration": 5,
    "start_time": "2024-07-12T12:38:44.909Z"
   },
   {
    "duration": 4,
    "start_time": "2024-07-12T12:39:17.178Z"
   },
   {
    "duration": 221,
    "start_time": "2024-07-12T12:39:50.291Z"
   },
   {
    "duration": 259,
    "start_time": "2024-07-12T12:39:59.346Z"
   },
   {
    "duration": 389,
    "start_time": "2024-07-12T12:40:17.146Z"
   },
   {
    "duration": 283,
    "start_time": "2024-07-12T12:40:36.882Z"
   },
   {
    "duration": 5,
    "start_time": "2024-07-12T12:46:15.432Z"
   },
   {
    "duration": 5,
    "start_time": "2024-07-12T12:46:29.757Z"
   },
   {
    "duration": 388,
    "start_time": "2024-07-12T12:47:18.476Z"
   },
   {
    "duration": 274,
    "start_time": "2024-07-12T12:47:40.051Z"
   },
   {
    "duration": 293,
    "start_time": "2024-07-12T12:47:51.635Z"
   },
   {
    "duration": 304,
    "start_time": "2024-07-12T12:48:03.047Z"
   },
   {
    "duration": 440,
    "start_time": "2024-07-12T12:48:14.718Z"
   },
   {
    "duration": 278,
    "start_time": "2024-07-12T12:49:39.674Z"
   },
   {
    "duration": 61,
    "start_time": "2024-07-12T12:50:01.591Z"
   },
   {
    "duration": 286,
    "start_time": "2024-07-12T12:50:13.348Z"
   },
   {
    "duration": 297,
    "start_time": "2024-07-12T12:50:47.114Z"
   },
   {
    "duration": 289,
    "start_time": "2024-07-12T12:51:27.124Z"
   },
   {
    "duration": 138,
    "start_time": "2024-07-12T12:57:07.564Z"
   },
   {
    "duration": 164,
    "start_time": "2024-07-12T12:57:28.026Z"
   },
   {
    "duration": 173,
    "start_time": "2024-07-12T12:57:46.866Z"
   },
   {
    "duration": 7,
    "start_time": "2024-07-12T13:08:17.345Z"
   },
   {
    "duration": 344,
    "start_time": "2024-07-12T13:09:30.381Z"
   },
   {
    "duration": 174,
    "start_time": "2024-07-12T13:10:06.264Z"
   },
   {
    "duration": 179,
    "start_time": "2024-07-12T13:10:12.079Z"
   },
   {
    "duration": 172,
    "start_time": "2024-07-12T13:11:45.799Z"
   },
   {
    "duration": 170,
    "start_time": "2024-07-12T13:11:54.990Z"
   },
   {
    "duration": 20,
    "start_time": "2024-07-12T13:13:39.674Z"
   },
   {
    "duration": 8,
    "start_time": "2024-07-12T13:14:00.678Z"
   },
   {
    "duration": 10,
    "start_time": "2024-07-12T13:21:25.963Z"
   },
   {
    "duration": 8,
    "start_time": "2024-07-12T13:21:35.881Z"
   },
   {
    "duration": 11,
    "start_time": "2024-07-12T13:21:44.885Z"
   },
   {
    "duration": 1032,
    "start_time": "2024-07-12T13:25:53.717Z"
   },
   {
    "duration": 13,
    "start_time": "2024-07-12T13:35:54.513Z"
   },
   {
    "duration": 25,
    "start_time": "2024-07-12T13:46:34.624Z"
   },
   {
    "duration": 19,
    "start_time": "2024-07-12T13:47:00.924Z"
   },
   {
    "duration": 10,
    "start_time": "2024-07-12T13:47:13.797Z"
   },
   {
    "duration": 9,
    "start_time": "2024-07-12T13:47:20.724Z"
   },
   {
    "duration": 21,
    "start_time": "2024-07-12T13:47:50.070Z"
   },
   {
    "duration": 20,
    "start_time": "2024-07-12T13:48:40.280Z"
   },
   {
    "duration": 21,
    "start_time": "2024-07-12T13:49:08.121Z"
   },
   {
    "duration": 55,
    "start_time": "2024-07-12T13:50:16.367Z"
   },
   {
    "duration": 22,
    "start_time": "2024-07-12T13:50:53.452Z"
   },
   {
    "duration": 12,
    "start_time": "2024-07-12T13:51:13.112Z"
   },
   {
    "duration": 12,
    "start_time": "2024-07-12T13:51:21.021Z"
   },
   {
    "duration": 7,
    "start_time": "2024-07-12T13:51:29.294Z"
   },
   {
    "duration": 9,
    "start_time": "2024-07-12T13:51:39.955Z"
   },
   {
    "duration": 9,
    "start_time": "2024-07-12T13:57:29.460Z"
   },
   {
    "duration": 11,
    "start_time": "2024-07-12T13:58:16.405Z"
   },
   {
    "duration": 6,
    "start_time": "2024-07-12T13:58:22.875Z"
   },
   {
    "duration": 58,
    "start_time": "2024-07-12T13:59:57.112Z"
   },
   {
    "duration": 19,
    "start_time": "2024-07-12T14:00:03.742Z"
   },
   {
    "duration": 6,
    "start_time": "2024-07-12T14:00:48.735Z"
   },
   {
    "duration": 9,
    "start_time": "2024-07-12T14:01:17.322Z"
   },
   {
    "duration": 10,
    "start_time": "2024-07-12T14:01:47.559Z"
   },
   {
    "duration": 11,
    "start_time": "2024-07-12T14:02:10.682Z"
   },
   {
    "duration": 22,
    "start_time": "2024-07-12T14:02:34.383Z"
   },
   {
    "duration": 15,
    "start_time": "2024-07-12T14:03:13.089Z"
   },
   {
    "duration": 18,
    "start_time": "2024-07-12T14:03:21.278Z"
   },
   {
    "duration": 197,
    "start_time": "2024-07-12T14:04:22.304Z"
   },
   {
    "duration": 278,
    "start_time": "2024-07-12T14:07:10.308Z"
   },
   {
    "duration": 316,
    "start_time": "2024-07-12T14:29:14.067Z"
   },
   {
    "duration": 278,
    "start_time": "2024-07-12T14:29:40.192Z"
   },
   {
    "duration": 175,
    "start_time": "2024-07-12T14:42:59.042Z"
   },
   {
    "duration": 1086,
    "start_time": "2024-07-12T15:54:41.328Z"
   },
   {
    "duration": 17,
    "start_time": "2024-07-12T16:02:32.869Z"
   },
   {
    "duration": 1284,
    "start_time": "2024-07-12T16:02:37.418Z"
   },
   {
    "duration": 129,
    "start_time": "2024-07-12T16:02:55.494Z"
   },
   {
    "duration": 1587,
    "start_time": "2024-07-12T16:04:08.532Z"
   },
   {
    "duration": 5,
    "start_time": "2024-07-12T16:09:55.040Z"
   },
   {
    "duration": 4,
    "start_time": "2024-07-12T16:10:28.057Z"
   },
   {
    "duration": 2490,
    "start_time": "2024-07-12T16:26:28.879Z"
   },
   {
    "duration": 1905,
    "start_time": "2024-07-12T16:26:31.372Z"
   },
   {
    "duration": 85,
    "start_time": "2024-07-12T16:26:33.278Z"
   },
   {
    "duration": 16,
    "start_time": "2024-07-12T16:26:33.364Z"
   },
   {
    "duration": 7,
    "start_time": "2024-07-12T16:26:33.382Z"
   },
   {
    "duration": 7,
    "start_time": "2024-07-12T16:26:33.390Z"
   },
   {
    "duration": 8,
    "start_time": "2024-07-12T16:26:33.399Z"
   },
   {
    "duration": 31,
    "start_time": "2024-07-12T16:26:33.408Z"
   },
   {
    "duration": 3,
    "start_time": "2024-07-12T16:26:33.441Z"
   },
   {
    "duration": 14,
    "start_time": "2024-07-12T16:26:33.446Z"
   },
   {
    "duration": 3,
    "start_time": "2024-07-12T16:26:33.462Z"
   },
   {
    "duration": 5,
    "start_time": "2024-07-12T16:26:33.466Z"
   },
   {
    "duration": 9,
    "start_time": "2024-07-12T16:26:33.472Z"
   },
   {
    "duration": 5,
    "start_time": "2024-07-12T16:26:33.507Z"
   },
   {
    "duration": 5,
    "start_time": "2024-07-12T16:26:33.513Z"
   },
   {
    "duration": 451,
    "start_time": "2024-07-12T16:26:33.519Z"
   },
   {
    "duration": 4,
    "start_time": "2024-07-12T16:26:33.971Z"
   },
   {
    "duration": 7,
    "start_time": "2024-07-12T16:26:33.976Z"
   },
   {
    "duration": 41,
    "start_time": "2024-07-12T16:26:33.985Z"
   },
   {
    "duration": 44,
    "start_time": "2024-07-12T16:26:34.027Z"
   },
   {
    "duration": 18,
    "start_time": "2024-07-12T16:26:34.073Z"
   },
   {
    "duration": 1835,
    "start_time": "2024-07-12T16:26:34.093Z"
   },
   {
    "duration": 7,
    "start_time": "2024-07-12T16:26:35.929Z"
   },
   {
    "duration": 18,
    "start_time": "2024-07-12T16:26:35.937Z"
   },
   {
    "duration": 339,
    "start_time": "2024-07-12T16:26:35.958Z"
   },
   {
    "duration": 41,
    "start_time": "2024-07-12T16:26:36.299Z"
   },
   {
    "duration": 1380,
    "start_time": "2024-07-12T16:26:36.341Z"
   },
   {
    "duration": 288,
    "start_time": "2024-07-12T16:26:37.723Z"
   },
   {
    "duration": 1230,
    "start_time": "2024-07-12T16:26:38.014Z"
   },
   {
    "duration": 59,
    "start_time": "2024-07-12T16:26:39.246Z"
   },
   {
    "duration": 962,
    "start_time": "2024-07-12T16:26:39.307Z"
   },
   {
    "duration": 9,
    "start_time": "2024-07-12T16:26:40.271Z"
   },
   {
    "duration": 4,
    "start_time": "2024-07-12T16:26:40.281Z"
   },
   {
    "duration": 1252,
    "start_time": "2024-07-12T16:26:40.286Z"
   },
   {
    "duration": 0,
    "start_time": "2024-07-12T16:26:41.540Z"
   },
   {
    "duration": 0,
    "start_time": "2024-07-12T16:26:41.542Z"
   },
   {
    "duration": 0,
    "start_time": "2024-07-12T16:26:41.543Z"
   },
   {
    "duration": 0,
    "start_time": "2024-07-12T16:26:41.544Z"
   },
   {
    "duration": 0,
    "start_time": "2024-07-12T16:26:41.546Z"
   },
   {
    "duration": 0,
    "start_time": "2024-07-12T16:26:41.547Z"
   },
   {
    "duration": 0,
    "start_time": "2024-07-12T16:26:41.548Z"
   },
   {
    "duration": 2523,
    "start_time": "2024-07-12T16:27:25.947Z"
   },
   {
    "duration": 1870,
    "start_time": "2024-07-12T16:27:28.472Z"
   },
   {
    "duration": 86,
    "start_time": "2024-07-12T16:27:30.343Z"
   },
   {
    "duration": 115,
    "start_time": "2024-07-12T16:27:30.430Z"
   },
   {
    "duration": 21,
    "start_time": "2024-07-12T16:27:30.547Z"
   },
   {
    "duration": 35,
    "start_time": "2024-07-12T16:27:30.569Z"
   },
   {
    "duration": 46,
    "start_time": "2024-07-12T16:27:30.605Z"
   },
   {
    "duration": 146,
    "start_time": "2024-07-12T16:27:30.652Z"
   },
   {
    "duration": 4,
    "start_time": "2024-07-12T16:27:30.800Z"
   },
   {
    "duration": 65,
    "start_time": "2024-07-12T16:27:30.806Z"
   },
   {
    "duration": 32,
    "start_time": "2024-07-12T16:27:30.873Z"
   },
   {
    "duration": 132,
    "start_time": "2024-07-12T16:27:30.907Z"
   },
   {
    "duration": 43,
    "start_time": "2024-07-12T16:27:31.041Z"
   },
   {
    "duration": 36,
    "start_time": "2024-07-12T16:27:31.088Z"
   },
   {
    "duration": 44,
    "start_time": "2024-07-12T16:27:31.125Z"
   },
   {
    "duration": 482,
    "start_time": "2024-07-12T16:27:31.171Z"
   },
   {
    "duration": 3,
    "start_time": "2024-07-12T16:27:31.655Z"
   },
   {
    "duration": 127,
    "start_time": "2024-07-12T16:27:31.659Z"
   },
   {
    "duration": 16,
    "start_time": "2024-07-12T16:27:31.788Z"
   },
   {
    "duration": 19,
    "start_time": "2024-07-12T16:27:31.806Z"
   },
   {
    "duration": 18,
    "start_time": "2024-07-12T16:27:31.826Z"
   },
   {
    "duration": 1887,
    "start_time": "2024-07-12T16:27:31.845Z"
   },
   {
    "duration": 7,
    "start_time": "2024-07-12T16:27:33.734Z"
   },
   {
    "duration": 56,
    "start_time": "2024-07-12T16:27:33.742Z"
   },
   {
    "duration": 306,
    "start_time": "2024-07-12T16:27:33.800Z"
   },
   {
    "duration": 51,
    "start_time": "2024-07-12T16:27:34.108Z"
   },
   {
    "duration": 1488,
    "start_time": "2024-07-12T16:27:34.161Z"
   },
   {
    "duration": 258,
    "start_time": "2024-07-12T16:27:35.651Z"
   },
   {
    "duration": 1173,
    "start_time": "2024-07-12T16:27:35.911Z"
   },
   {
    "duration": 39,
    "start_time": "2024-07-12T16:27:37.086Z"
   },
   {
    "duration": 985,
    "start_time": "2024-07-12T16:27:37.126Z"
   },
   {
    "duration": 10,
    "start_time": "2024-07-12T16:27:38.112Z"
   },
   {
    "duration": 32,
    "start_time": "2024-07-12T16:27:38.123Z"
   },
   {
    "duration": 168,
    "start_time": "2024-07-12T16:27:38.156Z"
   },
   {
    "duration": 6,
    "start_time": "2024-07-12T16:27:38.325Z"
   },
   {
    "duration": 204,
    "start_time": "2024-07-12T16:27:38.333Z"
   },
   {
    "duration": 6,
    "start_time": "2024-07-12T16:27:38.539Z"
   },
   {
    "duration": 297,
    "start_time": "2024-07-12T16:27:38.546Z"
   },
   {
    "duration": 399,
    "start_time": "2024-07-12T16:27:38.845Z"
   },
   {
    "duration": 326,
    "start_time": "2024-07-12T16:27:39.245Z"
   },
   {
    "duration": 191,
    "start_time": "2024-07-12T16:27:39.574Z"
   },
   {
    "duration": 4099,
    "start_time": "2024-07-12T19:53:18.171Z"
   },
   {
    "duration": 3211,
    "start_time": "2024-07-12T19:53:22.273Z"
   },
   {
    "duration": 317,
    "start_time": "2024-07-12T19:53:25.485Z"
   },
   {
    "duration": 16,
    "start_time": "2024-07-12T19:53:25.804Z"
   },
   {
    "duration": 12,
    "start_time": "2024-07-12T19:53:25.823Z"
   },
   {
    "duration": 7,
    "start_time": "2024-07-12T19:53:25.836Z"
   },
   {
    "duration": 9,
    "start_time": "2024-07-12T19:53:25.844Z"
   },
   {
    "duration": 51,
    "start_time": "2024-07-12T19:53:25.855Z"
   },
   {
    "duration": 5,
    "start_time": "2024-07-12T19:53:25.907Z"
   },
   {
    "duration": 24,
    "start_time": "2024-07-12T19:53:25.913Z"
   },
   {
    "duration": 4,
    "start_time": "2024-07-12T19:53:25.938Z"
   },
   {
    "duration": 4,
    "start_time": "2024-07-12T19:53:25.944Z"
   },
   {
    "duration": 24,
    "start_time": "2024-07-12T19:53:25.949Z"
   },
   {
    "duration": 4,
    "start_time": "2024-07-12T19:53:25.976Z"
   },
   {
    "duration": 4,
    "start_time": "2024-07-12T19:53:25.982Z"
   },
   {
    "duration": 467,
    "start_time": "2024-07-12T19:53:25.988Z"
   },
   {
    "duration": 3,
    "start_time": "2024-07-12T19:53:26.457Z"
   },
   {
    "duration": 27,
    "start_time": "2024-07-12T19:53:26.462Z"
   },
   {
    "duration": 19,
    "start_time": "2024-07-12T19:53:26.491Z"
   },
   {
    "duration": 7,
    "start_time": "2024-07-12T19:53:26.512Z"
   },
   {
    "duration": 15,
    "start_time": "2024-07-12T19:53:26.521Z"
   },
   {
    "duration": 1972,
    "start_time": "2024-07-12T19:53:26.537Z"
   },
   {
    "duration": 7,
    "start_time": "2024-07-12T19:53:28.510Z"
   },
   {
    "duration": 13,
    "start_time": "2024-07-12T19:53:28.518Z"
   },
   {
    "duration": 178,
    "start_time": "2024-07-12T19:53:28.533Z"
   },
   {
    "duration": 42,
    "start_time": "2024-07-12T19:53:28.713Z"
   },
   {
    "duration": 1481,
    "start_time": "2024-07-12T19:53:28.757Z"
   },
   {
    "duration": 267,
    "start_time": "2024-07-12T19:53:30.239Z"
   },
   {
    "duration": 1151,
    "start_time": "2024-07-12T19:53:30.509Z"
   },
   {
    "duration": 33,
    "start_time": "2024-07-12T19:53:31.661Z"
   },
   {
    "duration": 1035,
    "start_time": "2024-07-12T19:53:31.695Z"
   },
   {
    "duration": 10,
    "start_time": "2024-07-12T19:53:32.732Z"
   },
   {
    "duration": 5,
    "start_time": "2024-07-12T19:53:32.743Z"
   },
   {
    "duration": 276,
    "start_time": "2024-07-12T19:53:32.749Z"
   },
   {
    "duration": 6,
    "start_time": "2024-07-12T19:53:33.027Z"
   },
   {
    "duration": 195,
    "start_time": "2024-07-12T19:53:33.034Z"
   },
   {
    "duration": 5,
    "start_time": "2024-07-12T19:53:33.231Z"
   },
   {
    "duration": 478,
    "start_time": "2024-07-12T19:53:33.237Z"
   },
   {
    "duration": 319,
    "start_time": "2024-07-12T19:53:33.716Z"
   },
   {
    "duration": 307,
    "start_time": "2024-07-12T19:53:34.037Z"
   },
   {
    "duration": 191,
    "start_time": "2024-07-12T19:53:34.347Z"
   },
   {
    "duration": 4429,
    "start_time": "2024-07-13T06:03:33.773Z"
   },
   {
    "duration": 2071,
    "start_time": "2024-07-13T06:03:38.204Z"
   },
   {
    "duration": 322,
    "start_time": "2024-07-13T06:03:40.277Z"
   },
   {
    "duration": 23,
    "start_time": "2024-07-13T06:03:40.602Z"
   },
   {
    "duration": 7,
    "start_time": "2024-07-13T06:03:40.627Z"
   },
   {
    "duration": 8,
    "start_time": "2024-07-13T06:03:40.636Z"
   },
   {
    "duration": 12,
    "start_time": "2024-07-13T06:03:40.646Z"
   },
   {
    "duration": 85,
    "start_time": "2024-07-13T06:06:23.650Z"
   },
   {
    "duration": 7,
    "start_time": "2024-07-13T06:06:30.612Z"
   },
   {
    "duration": 2515,
    "start_time": "2024-07-13T06:07:06.203Z"
   },
   {
    "duration": 8,
    "start_time": "2024-07-13T06:07:08.721Z"
   },
   {
    "duration": 100,
    "start_time": "2024-07-13T06:07:08.730Z"
   },
   {
    "duration": 15,
    "start_time": "2024-07-13T06:07:08.832Z"
   },
   {
    "duration": 9,
    "start_time": "2024-07-13T06:07:08.850Z"
   },
   {
    "duration": 17,
    "start_time": "2024-07-13T06:07:08.861Z"
   },
   {
    "duration": 35,
    "start_time": "2024-07-13T06:07:08.880Z"
   },
   {
    "duration": 39,
    "start_time": "2024-07-13T06:07:08.918Z"
   },
   {
    "duration": 83,
    "start_time": "2024-07-13T06:08:32.880Z"
   },
   {
    "duration": 7,
    "start_time": "2024-07-13T06:08:38.174Z"
   },
   {
    "duration": 33,
    "start_time": "2024-07-13T06:08:45.813Z"
   },
   {
    "duration": 12,
    "start_time": "2024-07-13T06:14:11.210Z"
   },
   {
    "duration": 1257,
    "start_time": "2024-07-13T06:16:52.525Z"
   },
   {
    "duration": 1033,
    "start_time": "2024-07-13T06:17:06.524Z"
   },
   {
    "duration": 1026,
    "start_time": "2024-07-13T06:17:15.578Z"
   },
   {
    "duration": 2576,
    "start_time": "2024-07-13T06:17:30.427Z"
   },
   {
    "duration": 5,
    "start_time": "2024-07-13T06:17:33.006Z"
   },
   {
    "duration": 97,
    "start_time": "2024-07-13T06:17:33.013Z"
   },
   {
    "duration": 13,
    "start_time": "2024-07-13T06:17:33.112Z"
   },
   {
    "duration": 33,
    "start_time": "2024-07-13T06:17:33.127Z"
   },
   {
    "duration": 7,
    "start_time": "2024-07-13T06:17:33.162Z"
   },
   {
    "duration": 8,
    "start_time": "2024-07-13T06:17:33.171Z"
   },
   {
    "duration": 36,
    "start_time": "2024-07-13T06:17:33.181Z"
   },
   {
    "duration": 29,
    "start_time": "2024-07-13T06:17:33.220Z"
   },
   {
    "duration": 39,
    "start_time": "2024-07-13T06:17:33.250Z"
   },
   {
    "duration": 6,
    "start_time": "2024-07-13T06:17:33.291Z"
   },
   {
    "duration": 16,
    "start_time": "2024-07-13T06:17:33.299Z"
   },
   {
    "duration": 6,
    "start_time": "2024-07-13T06:17:33.317Z"
   },
   {
    "duration": 5,
    "start_time": "2024-07-13T06:17:33.326Z"
   },
   {
    "duration": 455,
    "start_time": "2024-07-13T06:17:33.332Z"
   },
   {
    "duration": 3,
    "start_time": "2024-07-13T06:17:33.789Z"
   },
   {
    "duration": 17,
    "start_time": "2024-07-13T06:17:33.794Z"
   },
   {
    "duration": 10,
    "start_time": "2024-07-13T06:17:33.812Z"
   },
   {
    "duration": 14,
    "start_time": "2024-07-13T06:17:33.823Z"
   },
   {
    "duration": 54,
    "start_time": "2024-07-13T06:17:33.838Z"
   },
   {
    "duration": 1898,
    "start_time": "2024-07-13T06:17:33.893Z"
   },
   {
    "duration": 9,
    "start_time": "2024-07-13T06:17:35.793Z"
   },
   {
    "duration": 6,
    "start_time": "2024-07-13T06:17:35.804Z"
   },
   {
    "duration": 350,
    "start_time": "2024-07-13T06:17:35.812Z"
   },
   {
    "duration": 43,
    "start_time": "2024-07-13T06:17:36.165Z"
   },
   {
    "duration": 18,
    "start_time": "2024-07-13T06:17:41.320Z"
   },
   {
    "duration": 21,
    "start_time": "2024-07-13T06:17:45.080Z"
   },
   {
    "duration": 1494,
    "start_time": "2024-07-13T06:18:45.362Z"
   },
   {
    "duration": 14,
    "start_time": "2024-07-13T06:48:20.254Z"
   },
   {
    "duration": 6,
    "start_time": "2024-07-13T07:51:13.856Z"
   },
   {
    "duration": 39,
    "start_time": "2024-07-13T07:51:34.512Z"
   },
   {
    "duration": 2504,
    "start_time": "2024-07-13T07:51:42.428Z"
   },
   {
    "duration": 6,
    "start_time": "2024-07-13T07:51:44.934Z"
   },
   {
    "duration": 91,
    "start_time": "2024-07-13T07:51:44.942Z"
   },
   {
    "duration": 14,
    "start_time": "2024-07-13T07:51:45.035Z"
   },
   {
    "duration": 46,
    "start_time": "2024-07-13T07:51:45.051Z"
   },
   {
    "duration": 12,
    "start_time": "2024-07-13T07:51:45.099Z"
   },
   {
    "duration": 18,
    "start_time": "2024-07-13T07:51:45.113Z"
   },
   {
    "duration": 60,
    "start_time": "2024-07-13T07:51:45.133Z"
   },
   {
    "duration": 10,
    "start_time": "2024-07-13T07:51:45.194Z"
   },
   {
    "duration": 25,
    "start_time": "2024-07-13T07:51:45.207Z"
   },
   {
    "duration": 6,
    "start_time": "2024-07-13T07:51:45.234Z"
   },
   {
    "duration": 18,
    "start_time": "2024-07-13T07:51:45.241Z"
   },
   {
    "duration": 21,
    "start_time": "2024-07-13T07:51:45.261Z"
   },
   {
    "duration": 21,
    "start_time": "2024-07-13T07:51:45.283Z"
   },
   {
    "duration": 485,
    "start_time": "2024-07-13T07:51:45.305Z"
   },
   {
    "duration": 5,
    "start_time": "2024-07-13T07:51:45.792Z"
   },
   {
    "duration": 14,
    "start_time": "2024-07-13T07:51:45.799Z"
   },
   {
    "duration": 11,
    "start_time": "2024-07-13T07:51:45.815Z"
   },
   {
    "duration": 8,
    "start_time": "2024-07-13T07:51:45.827Z"
   },
   {
    "duration": 16,
    "start_time": "2024-07-13T07:51:45.836Z"
   },
   {
    "duration": 2034,
    "start_time": "2024-07-13T07:51:45.865Z"
   },
   {
    "duration": 6,
    "start_time": "2024-07-13T07:51:47.901Z"
   },
   {
    "duration": 57,
    "start_time": "2024-07-13T07:51:47.908Z"
   },
   {
    "duration": 173,
    "start_time": "2024-07-13T07:51:47.967Z"
   },
   {
    "duration": 47,
    "start_time": "2024-07-13T07:51:48.142Z"
   },
   {
    "duration": 15,
    "start_time": "2024-07-13T07:51:48.191Z"
   },
   {
    "duration": 1644,
    "start_time": "2024-07-13T07:51:48.208Z"
   },
   {
    "duration": 310,
    "start_time": "2024-07-13T07:51:49.856Z"
   },
   {
    "duration": 99,
    "start_time": "2024-07-13T07:51:50.168Z"
   },
   {
    "duration": 32,
    "start_time": "2024-07-13T07:51:56.358Z"
   },
   {
    "duration": 47,
    "start_time": "2024-07-13T07:52:24.794Z"
   },
   {
    "duration": 52,
    "start_time": "2024-07-13T07:53:31.130Z"
   },
   {
    "duration": 51,
    "start_time": "2024-07-13T07:54:03.072Z"
   },
   {
    "duration": 1348,
    "start_time": "2024-07-13T07:54:51.613Z"
   },
   {
    "duration": 1402,
    "start_time": "2024-07-13T08:14:49.149Z"
   },
   {
    "duration": 2876,
    "start_time": "2024-07-13T08:15:12.563Z"
   },
   {
    "duration": 1093,
    "start_time": "2024-07-13T08:17:18.794Z"
   },
   {
    "duration": 2539,
    "start_time": "2024-07-13T08:17:58.435Z"
   },
   {
    "duration": 340,
    "start_time": "2024-07-13T08:19:03.733Z"
   },
   {
    "duration": 340,
    "start_time": "2024-07-13T08:20:06.111Z"
   },
   {
    "duration": 2685,
    "start_time": "2024-07-13T08:20:52.519Z"
   },
   {
    "duration": 6,
    "start_time": "2024-07-13T08:21:42.176Z"
   },
   {
    "duration": 5,
    "start_time": "2024-07-13T08:21:53.750Z"
   },
   {
    "duration": 444,
    "start_time": "2024-07-13T08:22:51.783Z"
   },
   {
    "duration": 9,
    "start_time": "2024-07-13T08:23:19.716Z"
   },
   {
    "duration": 13,
    "start_time": "2024-07-13T08:24:07.062Z"
   },
   {
    "duration": 9,
    "start_time": "2024-07-13T08:24:12.308Z"
   },
   {
    "duration": 374,
    "start_time": "2024-07-13T08:24:39.528Z"
   },
   {
    "duration": 2595,
    "start_time": "2024-07-13T08:24:58.815Z"
   },
   {
    "duration": 13,
    "start_time": "2024-07-13T08:25:56.865Z"
   },
   {
    "duration": 85,
    "start_time": "2024-07-13T08:26:34.559Z"
   },
   {
    "duration": 15,
    "start_time": "2024-07-13T08:26:56.476Z"
   },
   {
    "duration": 19,
    "start_time": "2024-07-13T08:27:13.738Z"
   },
   {
    "duration": 4695,
    "start_time": "2024-07-13T08:28:28.965Z"
   },
   {
    "duration": 15,
    "start_time": "2024-07-13T08:28:52.792Z"
   },
   {
    "duration": 1217,
    "start_time": "2024-07-13T08:29:15.699Z"
   },
   {
    "duration": 1299,
    "start_time": "2024-07-13T08:29:41.441Z"
   },
   {
    "duration": 6,
    "start_time": "2024-07-13T08:30:41.615Z"
   },
   {
    "duration": 25,
    "start_time": "2024-07-13T08:31:07.663Z"
   },
   {
    "duration": 132,
    "start_time": "2024-07-13T08:32:21.438Z"
   },
   {
    "duration": 6,
    "start_time": "2024-07-13T08:33:18.397Z"
   },
   {
    "duration": 5,
    "start_time": "2024-07-13T08:33:44.731Z"
   },
   {
    "duration": 4,
    "start_time": "2024-07-13T08:33:49.148Z"
   },
   {
    "duration": 5,
    "start_time": "2024-07-13T08:33:59.516Z"
   },
   {
    "duration": 4,
    "start_time": "2024-07-13T08:34:04.433Z"
   },
   {
    "duration": 4,
    "start_time": "2024-07-13T08:51:54.080Z"
   },
   {
    "duration": 5,
    "start_time": "2024-07-13T08:51:58.413Z"
   },
   {
    "duration": 4,
    "start_time": "2024-07-13T08:52:08.622Z"
   },
   {
    "duration": 4,
    "start_time": "2024-07-13T08:52:18.007Z"
   },
   {
    "duration": 61,
    "start_time": "2024-07-13T08:52:59.509Z"
   },
   {
    "duration": 98,
    "start_time": "2024-07-13T08:53:17.207Z"
   },
   {
    "duration": 1081,
    "start_time": "2024-07-13T08:53:27.288Z"
   },
   {
    "duration": 8,
    "start_time": "2024-07-13T08:54:44.584Z"
   },
   {
    "duration": 1887,
    "start_time": "2024-07-13T08:55:24.085Z"
   },
   {
    "duration": 25,
    "start_time": "2024-07-13T09:32:27.133Z"
   },
   {
    "duration": 855,
    "start_time": "2024-07-13T09:32:41.912Z"
   },
   {
    "duration": 2562,
    "start_time": "2024-07-13T09:33:06.112Z"
   },
   {
    "duration": 5,
    "start_time": "2024-07-13T09:33:08.677Z"
   },
   {
    "duration": 98,
    "start_time": "2024-07-13T09:33:08.684Z"
   },
   {
    "duration": 15,
    "start_time": "2024-07-13T09:33:08.784Z"
   },
   {
    "duration": 8,
    "start_time": "2024-07-13T09:33:08.801Z"
   },
   {
    "duration": 18,
    "start_time": "2024-07-13T09:33:08.811Z"
   },
   {
    "duration": 38,
    "start_time": "2024-07-13T09:33:08.831Z"
   },
   {
    "duration": 37,
    "start_time": "2024-07-13T09:33:08.871Z"
   },
   {
    "duration": 12,
    "start_time": "2024-07-13T09:33:08.910Z"
   },
   {
    "duration": 6,
    "start_time": "2024-07-13T09:33:08.924Z"
   },
   {
    "duration": 33,
    "start_time": "2024-07-13T09:33:08.932Z"
   },
   {
    "duration": 10,
    "start_time": "2024-07-13T09:33:08.967Z"
   },
   {
    "duration": 14,
    "start_time": "2024-07-13T09:33:08.978Z"
   },
   {
    "duration": 4,
    "start_time": "2024-07-13T09:33:08.995Z"
   },
   {
    "duration": 644,
    "start_time": "2024-07-13T09:33:09.001Z"
   },
   {
    "duration": 4,
    "start_time": "2024-07-13T09:33:09.647Z"
   },
   {
    "duration": 27,
    "start_time": "2024-07-13T09:33:09.652Z"
   },
   {
    "duration": 23,
    "start_time": "2024-07-13T09:33:09.680Z"
   },
   {
    "duration": 8,
    "start_time": "2024-07-13T09:33:09.704Z"
   },
   {
    "duration": 28,
    "start_time": "2024-07-13T09:33:09.713Z"
   },
   {
    "duration": 1945,
    "start_time": "2024-07-13T09:33:09.742Z"
   },
   {
    "duration": 6,
    "start_time": "2024-07-13T09:33:11.689Z"
   },
   {
    "duration": 3,
    "start_time": "2024-07-13T09:33:11.697Z"
   },
   {
    "duration": 225,
    "start_time": "2024-07-13T09:33:11.702Z"
   },
   {
    "duration": 54,
    "start_time": "2024-07-13T09:33:11.928Z"
   },
   {
    "duration": 17,
    "start_time": "2024-07-13T09:33:11.984Z"
   },
   {
    "duration": 1500,
    "start_time": "2024-07-13T09:33:12.002Z"
   },
   {
    "duration": 361,
    "start_time": "2024-07-13T09:33:13.503Z"
   },
   {
    "duration": 104,
    "start_time": "2024-07-13T09:33:13.866Z"
   },
   {
    "duration": 7,
    "start_time": "2024-07-13T09:33:13.972Z"
   },
   {
    "duration": 1221,
    "start_time": "2024-07-13T09:33:13.980Z"
   },
   {
    "duration": 4,
    "start_time": "2024-07-13T09:33:15.203Z"
   },
   {
    "duration": 69,
    "start_time": "2024-07-13T09:33:15.208Z"
   },
   {
    "duration": 157,
    "start_time": "2024-07-13T09:33:15.278Z"
   },
   {
    "duration": 1201,
    "start_time": "2024-07-13T09:33:15.437Z"
   },
   {
    "duration": 25,
    "start_time": "2024-07-13T09:33:16.640Z"
   },
   {
    "duration": 43,
    "start_time": "2024-07-13T09:33:16.667Z"
   },
   {
    "duration": 378,
    "start_time": "2024-07-13T09:33:16.712Z"
   },
   {
    "duration": 5,
    "start_time": "2024-07-13T09:33:17.092Z"
   },
   {
    "duration": 233,
    "start_time": "2024-07-13T09:33:17.099Z"
   },
   {
    "duration": 6,
    "start_time": "2024-07-13T09:33:17.336Z"
   },
   {
    "duration": 309,
    "start_time": "2024-07-13T09:33:17.344Z"
   },
   {
    "duration": 318,
    "start_time": "2024-07-13T09:33:17.655Z"
   },
   {
    "duration": 301,
    "start_time": "2024-07-13T09:33:17.974Z"
   },
   {
    "duration": 198,
    "start_time": "2024-07-13T09:33:18.277Z"
   },
   {
    "duration": 16,
    "start_time": "2024-07-13T09:33:38.972Z"
   },
   {
    "duration": 16,
    "start_time": "2024-07-13T09:34:24.805Z"
   },
   {
    "duration": 15,
    "start_time": "2024-07-13T09:34:52.241Z"
   },
   {
    "duration": 28,
    "start_time": "2024-07-13T09:35:07.131Z"
   },
   {
    "duration": 1189,
    "start_time": "2024-07-13T09:35:38.132Z"
   },
   {
    "duration": 23,
    "start_time": "2024-07-13T09:35:49.694Z"
   },
   {
    "duration": 13,
    "start_time": "2024-07-13T09:35:59.833Z"
   },
   {
    "duration": 2608,
    "start_time": "2024-07-13T09:36:34.426Z"
   },
   {
    "duration": 5,
    "start_time": "2024-07-13T09:36:37.037Z"
   },
   {
    "duration": 121,
    "start_time": "2024-07-13T09:36:37.045Z"
   },
   {
    "duration": 21,
    "start_time": "2024-07-13T09:36:37.167Z"
   },
   {
    "duration": 12,
    "start_time": "2024-07-13T09:36:37.191Z"
   },
   {
    "duration": 12,
    "start_time": "2024-07-13T09:36:37.204Z"
   },
   {
    "duration": 8,
    "start_time": "2024-07-13T09:36:37.218Z"
   },
   {
    "duration": 52,
    "start_time": "2024-07-13T09:36:37.227Z"
   },
   {
    "duration": 11,
    "start_time": "2024-07-13T09:36:37.280Z"
   },
   {
    "duration": 17,
    "start_time": "2024-07-13T09:36:37.293Z"
   },
   {
    "duration": 5,
    "start_time": "2024-07-13T09:36:37.312Z"
   },
   {
    "duration": 10,
    "start_time": "2024-07-13T09:36:37.318Z"
   },
   {
    "duration": 36,
    "start_time": "2024-07-13T09:36:37.329Z"
   },
   {
    "duration": 4,
    "start_time": "2024-07-13T09:36:37.369Z"
   },
   {
    "duration": 635,
    "start_time": "2024-07-13T09:36:37.374Z"
   },
   {
    "duration": 4,
    "start_time": "2024-07-13T09:36:38.011Z"
   },
   {
    "duration": 8,
    "start_time": "2024-07-13T09:36:38.017Z"
   },
   {
    "duration": 13,
    "start_time": "2024-07-13T09:36:38.027Z"
   },
   {
    "duration": 24,
    "start_time": "2024-07-13T09:36:38.041Z"
   },
   {
    "duration": 19,
    "start_time": "2024-07-13T09:36:38.067Z"
   },
   {
    "duration": 1885,
    "start_time": "2024-07-13T09:36:38.088Z"
   },
   {
    "duration": 8,
    "start_time": "2024-07-13T09:36:39.975Z"
   },
   {
    "duration": 5,
    "start_time": "2024-07-13T09:36:39.984Z"
   },
   {
    "duration": 205,
    "start_time": "2024-07-13T09:36:39.991Z"
   },
   {
    "duration": 42,
    "start_time": "2024-07-13T09:36:40.199Z"
   },
   {
    "duration": 37,
    "start_time": "2024-07-13T09:36:40.243Z"
   },
   {
    "duration": 1492,
    "start_time": "2024-07-13T09:36:40.282Z"
   },
   {
    "duration": 298,
    "start_time": "2024-07-13T09:36:41.775Z"
   },
   {
    "duration": 98,
    "start_time": "2024-07-13T09:36:42.074Z"
   },
   {
    "duration": 94,
    "start_time": "2024-07-13T09:36:42.174Z"
   },
   {
    "duration": 1245,
    "start_time": "2024-07-13T09:36:42.270Z"
   },
   {
    "duration": 4,
    "start_time": "2024-07-13T09:36:43.516Z"
   },
   {
    "duration": 5,
    "start_time": "2024-07-13T09:36:43.521Z"
   },
   {
    "duration": 118,
    "start_time": "2024-07-13T09:36:43.527Z"
   },
   {
    "duration": 976,
    "start_time": "2024-07-13T09:36:43.647Z"
   },
   {
    "duration": 14,
    "start_time": "2024-07-13T09:36:44.625Z"
   },
   {
    "duration": 60,
    "start_time": "2024-07-13T09:36:44.640Z"
   },
   {
    "duration": 358,
    "start_time": "2024-07-13T09:36:44.702Z"
   },
   {
    "duration": 4,
    "start_time": "2024-07-13T09:36:45.062Z"
   },
   {
    "duration": 206,
    "start_time": "2024-07-13T09:36:45.068Z"
   },
   {
    "duration": 6,
    "start_time": "2024-07-13T09:36:45.277Z"
   },
   {
    "duration": 316,
    "start_time": "2024-07-13T09:36:45.284Z"
   },
   {
    "duration": 310,
    "start_time": "2024-07-13T09:36:45.602Z"
   },
   {
    "duration": 325,
    "start_time": "2024-07-13T09:36:45.914Z"
   },
   {
    "duration": 195,
    "start_time": "2024-07-13T09:36:46.241Z"
   },
   {
    "duration": 1004,
    "start_time": "2024-07-13T09:49:42.182Z"
   },
   {
    "duration": 5,
    "start_time": "2024-07-13T09:50:09.557Z"
   },
   {
    "duration": 6,
    "start_time": "2024-07-13T09:50:24.405Z"
   },
   {
    "duration": 144,
    "start_time": "2024-07-13T09:50:31.156Z"
   },
   {
    "duration": 167,
    "start_time": "2024-07-13T09:50:40.425Z"
   },
   {
    "duration": 2528,
    "start_time": "2024-07-13T10:09:21.455Z"
   },
   {
    "duration": 6,
    "start_time": "2024-07-13T10:09:23.986Z"
   },
   {
    "duration": 160,
    "start_time": "2024-07-13T10:09:23.994Z"
   },
   {
    "duration": 14,
    "start_time": "2024-07-13T10:09:24.156Z"
   },
   {
    "duration": 22,
    "start_time": "2024-07-13T10:09:24.172Z"
   },
   {
    "duration": 13,
    "start_time": "2024-07-13T10:09:24.196Z"
   },
   {
    "duration": 179,
    "start_time": "2024-07-13T10:09:24.210Z"
   },
   {
    "duration": 56,
    "start_time": "2024-07-13T10:09:24.390Z"
   },
   {
    "duration": 17,
    "start_time": "2024-07-13T10:09:24.448Z"
   },
   {
    "duration": 19,
    "start_time": "2024-07-13T10:09:24.466Z"
   },
   {
    "duration": 21,
    "start_time": "2024-07-13T10:09:24.487Z"
   },
   {
    "duration": 12,
    "start_time": "2024-07-13T10:09:24.510Z"
   },
   {
    "duration": 7,
    "start_time": "2024-07-13T10:09:24.523Z"
   },
   {
    "duration": 4,
    "start_time": "2024-07-13T10:09:24.533Z"
   },
   {
    "duration": 474,
    "start_time": "2024-07-13T10:09:24.539Z"
   },
   {
    "duration": 4,
    "start_time": "2024-07-13T10:09:25.016Z"
   },
   {
    "duration": 30,
    "start_time": "2024-07-13T10:09:25.021Z"
   },
   {
    "duration": 11,
    "start_time": "2024-07-13T10:09:36.024Z"
   },
   {
    "duration": 19,
    "start_time": "2024-07-13T10:10:05.996Z"
   },
   {
    "duration": 22,
    "start_time": "2024-07-13T10:10:48.082Z"
   },
   {
    "duration": 12,
    "start_time": "2024-07-13T10:11:00.084Z"
   },
   {
    "duration": 19,
    "start_time": "2024-07-13T10:11:06.736Z"
   },
   {
    "duration": 17,
    "start_time": "2024-07-13T10:14:11.609Z"
   },
   {
    "duration": 22,
    "start_time": "2024-07-13T10:14:20.476Z"
   },
   {
    "duration": 22,
    "start_time": "2024-07-13T10:17:48.758Z"
   },
   {
    "duration": 21,
    "start_time": "2024-07-13T10:17:59.260Z"
   },
   {
    "duration": 14,
    "start_time": "2024-07-13T10:18:10.196Z"
   },
   {
    "duration": 22,
    "start_time": "2024-07-13T10:18:21.815Z"
   },
   {
    "duration": 17,
    "start_time": "2024-07-13T10:18:31.721Z"
   },
   {
    "duration": 32,
    "start_time": "2024-07-13T10:19:01.775Z"
   },
   {
    "duration": 26,
    "start_time": "2024-07-13T10:19:11.728Z"
   },
   {
    "duration": 15,
    "start_time": "2024-07-13T10:19:35.044Z"
   },
   {
    "duration": 18,
    "start_time": "2024-07-13T10:19:41.179Z"
   },
   {
    "duration": 22,
    "start_time": "2024-07-13T10:20:12.726Z"
   },
   {
    "duration": 26,
    "start_time": "2024-07-13T10:20:17.603Z"
   },
   {
    "duration": 7,
    "start_time": "2024-07-13T10:21:57.721Z"
   },
   {
    "duration": 27,
    "start_time": "2024-07-13T10:22:21.863Z"
   },
   {
    "duration": 17,
    "start_time": "2024-07-13T10:23:25.662Z"
   },
   {
    "duration": 2515,
    "start_time": "2024-07-13T10:24:24.376Z"
   },
   {
    "duration": 5,
    "start_time": "2024-07-13T10:24:26.894Z"
   },
   {
    "duration": 101,
    "start_time": "2024-07-13T10:24:26.901Z"
   },
   {
    "duration": 14,
    "start_time": "2024-07-13T10:24:27.005Z"
   },
   {
    "duration": 16,
    "start_time": "2024-07-13T10:24:27.021Z"
   },
   {
    "duration": 9,
    "start_time": "2024-07-13T10:24:27.038Z"
   },
   {
    "duration": 26,
    "start_time": "2024-07-13T10:24:27.048Z"
   },
   {
    "duration": 33,
    "start_time": "2024-07-13T10:24:27.076Z"
   },
   {
    "duration": 10,
    "start_time": "2024-07-13T10:24:27.111Z"
   },
   {
    "duration": 4,
    "start_time": "2024-07-13T10:24:27.124Z"
   },
   {
    "duration": 9,
    "start_time": "2024-07-13T10:24:27.130Z"
   },
   {
    "duration": 16,
    "start_time": "2024-07-13T10:24:27.166Z"
   },
   {
    "duration": 13,
    "start_time": "2024-07-13T10:24:27.183Z"
   },
   {
    "duration": 6,
    "start_time": "2024-07-13T10:24:27.197Z"
   },
   {
    "duration": 494,
    "start_time": "2024-07-13T10:24:27.204Z"
   },
   {
    "duration": 4,
    "start_time": "2024-07-13T10:24:27.699Z"
   },
   {
    "duration": 25,
    "start_time": "2024-07-13T10:24:27.705Z"
   },
   {
    "duration": 25,
    "start_time": "2024-07-13T10:24:27.732Z"
   },
   {
    "duration": 32,
    "start_time": "2024-07-13T10:24:27.765Z"
   },
   {
    "duration": 29,
    "start_time": "2024-07-13T10:24:27.799Z"
   },
   {
    "duration": 44,
    "start_time": "2024-07-13T10:24:27.831Z"
   },
   {
    "duration": 1918,
    "start_time": "2024-07-13T10:24:27.877Z"
   },
   {
    "duration": 8,
    "start_time": "2024-07-13T10:24:29.797Z"
   },
   {
    "duration": 5,
    "start_time": "2024-07-13T10:24:29.807Z"
   },
   {
    "duration": 208,
    "start_time": "2024-07-13T10:24:29.814Z"
   },
   {
    "duration": 52,
    "start_time": "2024-07-13T10:24:30.023Z"
   },
   {
    "duration": 88,
    "start_time": "2024-07-13T10:24:30.077Z"
   },
   {
    "duration": 6,
    "start_time": "2024-07-13T10:24:38.502Z"
   },
   {
    "duration": 53,
    "start_time": "2024-07-13T10:27:53.217Z"
   },
   {
    "duration": 19,
    "start_time": "2024-07-13T10:32:22.814Z"
   },
   {
    "duration": 25,
    "start_time": "2024-07-13T10:32:38.759Z"
   },
   {
    "duration": 2576,
    "start_time": "2024-07-13T10:33:04.169Z"
   },
   {
    "duration": 6,
    "start_time": "2024-07-13T10:33:06.747Z"
   },
   {
    "duration": 118,
    "start_time": "2024-07-13T10:33:06.755Z"
   },
   {
    "duration": 13,
    "start_time": "2024-07-13T10:33:06.875Z"
   },
   {
    "duration": 56,
    "start_time": "2024-07-13T10:33:06.891Z"
   },
   {
    "duration": 15,
    "start_time": "2024-07-13T10:33:06.948Z"
   },
   {
    "duration": 15,
    "start_time": "2024-07-13T10:33:06.965Z"
   },
   {
    "duration": 37,
    "start_time": "2024-07-13T10:33:06.982Z"
   },
   {
    "duration": 12,
    "start_time": "2024-07-13T10:33:07.021Z"
   },
   {
    "duration": 9,
    "start_time": "2024-07-13T10:33:07.035Z"
   },
   {
    "duration": 5,
    "start_time": "2024-07-13T10:33:07.065Z"
   },
   {
    "duration": 21,
    "start_time": "2024-07-13T10:33:07.072Z"
   },
   {
    "duration": 5,
    "start_time": "2024-07-13T10:33:07.095Z"
   },
   {
    "duration": 8,
    "start_time": "2024-07-13T10:33:07.103Z"
   },
   {
    "duration": 732,
    "start_time": "2024-07-13T10:33:07.112Z"
   },
   {
    "duration": 4,
    "start_time": "2024-07-13T10:33:07.846Z"
   },
   {
    "duration": 17,
    "start_time": "2024-07-13T10:33:07.851Z"
   },
   {
    "duration": 20,
    "start_time": "2024-07-13T10:33:07.869Z"
   },
   {
    "duration": 32,
    "start_time": "2024-07-13T10:33:07.891Z"
   },
   {
    "duration": 56,
    "start_time": "2024-07-13T10:33:07.924Z"
   },
   {
    "duration": 16,
    "start_time": "2024-07-13T10:33:07.982Z"
   },
   {
    "duration": 1945,
    "start_time": "2024-07-13T10:33:07.999Z"
   },
   {
    "duration": 20,
    "start_time": "2024-07-13T10:33:09.946Z"
   },
   {
    "duration": 4,
    "start_time": "2024-07-13T10:33:09.967Z"
   },
   {
    "duration": 200,
    "start_time": "2024-07-13T10:33:09.973Z"
   },
   {
    "duration": 43,
    "start_time": "2024-07-13T10:33:10.175Z"
   },
   {
    "duration": 16,
    "start_time": "2024-07-13T10:33:10.220Z"
   },
   {
    "duration": 30,
    "start_time": "2024-07-13T10:33:10.238Z"
   },
   {
    "duration": 1581,
    "start_time": "2024-07-13T10:33:10.270Z"
   },
   {
    "duration": 314,
    "start_time": "2024-07-13T10:33:11.853Z"
   },
   {
    "duration": 1299,
    "start_time": "2024-07-13T10:33:12.171Z"
   },
   {
    "duration": 4,
    "start_time": "2024-07-13T10:33:13.472Z"
   },
   {
    "duration": 10,
    "start_time": "2024-07-13T10:33:13.478Z"
   },
   {
    "duration": 131,
    "start_time": "2024-07-13T10:33:13.489Z"
   },
   {
    "duration": 1070,
    "start_time": "2024-07-13T10:33:13.622Z"
   },
   {
    "duration": 4,
    "start_time": "2024-07-13T10:33:14.695Z"
   },
   {
    "duration": 200,
    "start_time": "2024-07-13T10:33:14.701Z"
   },
   {
    "duration": 25,
    "start_time": "2024-07-13T10:33:30.340Z"
   },
   {
    "duration": 15,
    "start_time": "2024-07-13T10:34:04.198Z"
   },
   {
    "duration": 25,
    "start_time": "2024-07-13T10:34:47.990Z"
   },
   {
    "duration": 4,
    "start_time": "2024-07-13T10:34:53.297Z"
   },
   {
    "duration": 23,
    "start_time": "2024-07-13T10:34:57.036Z"
   },
   {
    "duration": 21,
    "start_time": "2024-07-13T10:35:08.945Z"
   },
   {
    "duration": 4,
    "start_time": "2024-07-13T10:35:18.778Z"
   },
   {
    "duration": 175,
    "start_time": "2024-07-13T10:35:25.740Z"
   },
   {
    "duration": 4,
    "start_time": "2024-07-13T10:35:43.588Z"
   },
   {
    "duration": 212,
    "start_time": "2024-07-13T10:35:49.223Z"
   },
   {
    "duration": 6,
    "start_time": "2024-07-13T10:36:05.109Z"
   },
   {
    "duration": 2712,
    "start_time": "2024-07-13T10:36:34.728Z"
   },
   {
    "duration": 6,
    "start_time": "2024-07-13T10:36:37.443Z"
   },
   {
    "duration": 93,
    "start_time": "2024-07-13T10:36:37.450Z"
   },
   {
    "duration": 15,
    "start_time": "2024-07-13T10:36:37.545Z"
   },
   {
    "duration": 19,
    "start_time": "2024-07-13T10:36:37.562Z"
   },
   {
    "duration": 18,
    "start_time": "2024-07-13T10:36:37.583Z"
   },
   {
    "duration": 23,
    "start_time": "2024-07-13T10:36:37.603Z"
   },
   {
    "duration": 34,
    "start_time": "2024-07-13T10:36:37.628Z"
   },
   {
    "duration": 10,
    "start_time": "2024-07-13T10:36:37.664Z"
   },
   {
    "duration": 12,
    "start_time": "2024-07-13T10:36:37.677Z"
   },
   {
    "duration": 19,
    "start_time": "2024-07-13T10:36:37.691Z"
   },
   {
    "duration": 10,
    "start_time": "2024-07-13T10:36:37.712Z"
   },
   {
    "duration": 12,
    "start_time": "2024-07-13T10:36:37.724Z"
   },
   {
    "duration": 27,
    "start_time": "2024-07-13T10:36:37.738Z"
   },
   {
    "duration": 741,
    "start_time": "2024-07-13T10:36:37.767Z"
   },
   {
    "duration": 4,
    "start_time": "2024-07-13T10:36:38.509Z"
   },
   {
    "duration": 9,
    "start_time": "2024-07-13T10:36:38.514Z"
   },
   {
    "duration": 43,
    "start_time": "2024-07-13T10:36:38.524Z"
   },
   {
    "duration": 36,
    "start_time": "2024-07-13T10:36:38.569Z"
   },
   {
    "duration": 21,
    "start_time": "2024-07-13T10:36:38.606Z"
   },
   {
    "duration": 37,
    "start_time": "2024-07-13T10:36:38.629Z"
   },
   {
    "duration": 1958,
    "start_time": "2024-07-13T10:36:38.668Z"
   },
   {
    "duration": 7,
    "start_time": "2024-07-13T10:36:40.628Z"
   },
   {
    "duration": 11,
    "start_time": "2024-07-13T10:36:40.636Z"
   },
   {
    "duration": 234,
    "start_time": "2024-07-13T10:36:40.649Z"
   },
   {
    "duration": 42,
    "start_time": "2024-07-13T10:36:40.885Z"
   },
   {
    "duration": 44,
    "start_time": "2024-07-13T10:36:40.929Z"
   },
   {
    "duration": 5,
    "start_time": "2024-07-13T10:36:40.977Z"
   },
   {
    "duration": 1461,
    "start_time": "2024-07-13T10:36:40.984Z"
   },
   {
    "duration": 225,
    "start_time": "2024-07-13T10:36:42.446Z"
   },
   {
    "duration": 1394,
    "start_time": "2024-07-13T10:36:42.673Z"
   },
   {
    "duration": 4,
    "start_time": "2024-07-13T10:36:44.069Z"
   },
   {
    "duration": 8,
    "start_time": "2024-07-13T10:36:44.074Z"
   },
   {
    "duration": 117,
    "start_time": "2024-07-13T10:36:44.083Z"
   },
   {
    "duration": 975,
    "start_time": "2024-07-13T10:36:44.202Z"
   },
   {
    "duration": 5,
    "start_time": "2024-07-13T10:36:45.179Z"
   },
   {
    "duration": 205,
    "start_time": "2024-07-13T10:36:45.185Z"
   },
   {
    "duration": 4,
    "start_time": "2024-07-13T10:36:45.393Z"
   },
   {
    "duration": 53,
    "start_time": "2024-07-13T10:36:45.399Z"
   },
   {
    "duration": 33,
    "start_time": "2024-07-13T10:36:45.454Z"
   },
   {
    "duration": 4,
    "start_time": "2024-07-13T10:36:45.489Z"
   },
   {
    "duration": 409,
    "start_time": "2024-07-13T10:36:45.495Z"
   },
   {
    "duration": 4,
    "start_time": "2024-07-13T10:36:45.906Z"
   },
   {
    "duration": 208,
    "start_time": "2024-07-13T10:36:45.911Z"
   },
   {
    "duration": 6,
    "start_time": "2024-07-13T10:36:46.120Z"
   },
   {
    "duration": 346,
    "start_time": "2024-07-13T10:36:46.128Z"
   },
   {
    "duration": 351,
    "start_time": "2024-07-13T10:36:46.476Z"
   },
   {
    "duration": 348,
    "start_time": "2024-07-13T10:36:46.829Z"
   },
   {
    "duration": 195,
    "start_time": "2024-07-13T10:36:47.179Z"
   },
   {
    "duration": 6,
    "start_time": "2024-07-13T10:38:28.772Z"
   },
   {
    "duration": 4336,
    "start_time": "2024-07-14T07:45:55.325Z"
   },
   {
    "duration": 3496,
    "start_time": "2024-07-14T07:45:59.664Z"
   },
   {
    "duration": 325,
    "start_time": "2024-07-14T07:46:03.174Z"
   },
   {
    "duration": 16,
    "start_time": "2024-07-14T07:46:03.502Z"
   },
   {
    "duration": 8,
    "start_time": "2024-07-14T07:46:03.520Z"
   },
   {
    "duration": 8,
    "start_time": "2024-07-14T07:46:03.530Z"
   },
   {
    "duration": 16,
    "start_time": "2024-07-14T07:46:03.540Z"
   },
   {
    "duration": 40,
    "start_time": "2024-07-14T07:46:03.558Z"
   },
   {
    "duration": 10,
    "start_time": "2024-07-14T07:46:03.601Z"
   },
   {
    "duration": 5,
    "start_time": "2024-07-14T07:46:03.614Z"
   },
   {
    "duration": 6,
    "start_time": "2024-07-14T07:46:03.620Z"
   },
   {
    "duration": 23,
    "start_time": "2024-07-14T07:46:03.627Z"
   },
   {
    "duration": 5,
    "start_time": "2024-07-14T07:46:03.660Z"
   },
   {
    "duration": 6,
    "start_time": "2024-07-14T07:46:03.667Z"
   },
   {
    "duration": 517,
    "start_time": "2024-07-14T07:46:03.675Z"
   },
   {
    "duration": 3,
    "start_time": "2024-07-14T07:46:04.194Z"
   },
   {
    "duration": 30,
    "start_time": "2024-07-14T07:46:04.199Z"
   },
   {
    "duration": 19,
    "start_time": "2024-07-14T07:46:04.231Z"
   },
   {
    "duration": 32,
    "start_time": "2024-07-14T07:46:04.252Z"
   },
   {
    "duration": 20,
    "start_time": "2024-07-14T07:46:04.286Z"
   },
   {
    "duration": 14,
    "start_time": "2024-07-14T07:46:04.307Z"
   },
   {
    "duration": 1927,
    "start_time": "2024-07-14T07:46:04.322Z"
   },
   {
    "duration": 22,
    "start_time": "2024-07-14T07:46:06.250Z"
   },
   {
    "duration": 6,
    "start_time": "2024-07-14T07:46:06.275Z"
   },
   {
    "duration": 340,
    "start_time": "2024-07-14T07:46:06.283Z"
   },
   {
    "duration": 56,
    "start_time": "2024-07-14T07:46:06.625Z"
   },
   {
    "duration": 16,
    "start_time": "2024-07-14T07:46:06.683Z"
   },
   {
    "duration": 6,
    "start_time": "2024-07-14T07:46:06.702Z"
   },
   {
    "duration": 1577,
    "start_time": "2024-07-14T07:46:06.709Z"
   },
   {
    "duration": 283,
    "start_time": "2024-07-14T07:46:08.288Z"
   },
   {
    "duration": 1434,
    "start_time": "2024-07-14T07:46:08.573Z"
   },
   {
    "duration": 4,
    "start_time": "2024-07-14T07:46:10.009Z"
   },
   {
    "duration": 26,
    "start_time": "2024-07-14T07:46:10.015Z"
   },
   {
    "duration": 133,
    "start_time": "2024-07-14T07:46:10.042Z"
   },
   {
    "duration": 1121,
    "start_time": "2024-07-14T07:46:10.177Z"
   },
   {
    "duration": 4,
    "start_time": "2024-07-14T07:46:11.300Z"
   },
   {
    "duration": 197,
    "start_time": "2024-07-14T07:46:11.306Z"
   },
   {
    "duration": 3,
    "start_time": "2024-07-14T07:46:11.505Z"
   },
   {
    "duration": 30,
    "start_time": "2024-07-14T07:46:11.510Z"
   },
   {
    "duration": 40,
    "start_time": "2024-07-14T07:46:11.542Z"
   },
   {
    "duration": 3,
    "start_time": "2024-07-14T07:46:11.584Z"
   },
   {
    "duration": 187,
    "start_time": "2024-07-14T07:46:11.589Z"
   },
   {
    "duration": 4,
    "start_time": "2024-07-14T07:46:11.778Z"
   },
   {
    "duration": 214,
    "start_time": "2024-07-14T07:46:11.783Z"
   },
   {
    "duration": 6,
    "start_time": "2024-07-14T07:46:11.999Z"
   },
   {
    "duration": 449,
    "start_time": "2024-07-14T07:46:12.007Z"
   },
   {
    "duration": 324,
    "start_time": "2024-07-14T07:46:12.461Z"
   },
   {
    "duration": 313,
    "start_time": "2024-07-14T07:46:12.786Z"
   },
   {
    "duration": 208,
    "start_time": "2024-07-14T07:46:13.101Z"
   }
  ],
  "colab": {
   "provenance": []
  },
  "kernelspec": {
   "display_name": "Python 3 (ipykernel)",
   "language": "python",
   "name": "python3"
  },
  "language_info": {
   "codemirror_mode": {
    "name": "ipython",
    "version": 3
   },
   "file_extension": ".py",
   "mimetype": "text/x-python",
   "name": "python",
   "nbconvert_exporter": "python",
   "pygments_lexer": "ipython3",
   "version": "3.9.5"
  },
  "toc": {
   "base_numbering": 1,
   "nav_menu": {},
   "number_sections": true,
   "sideBar": true,
   "skip_h1_title": true,
   "title_cell": "Table of Contents",
   "title_sidebar": "Contents",
   "toc_cell": false,
   "toc_position": {},
   "toc_section_display": true,
   "toc_window_display": false
  }
 },
 "nbformat": 4,
 "nbformat_minor": 4
}
